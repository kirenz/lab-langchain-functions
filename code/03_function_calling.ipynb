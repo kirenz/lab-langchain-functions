{
    "cells": [
        {
            "cell_type": "markdown",
            "metadata": {},
            "source": [
                "# OpenAI Function Calling In LangChain\n",
                "\n",
                "\n",
                "# Setup {.smaller}"
            ]
        },
        {
            "cell_type": "code",
            "metadata": {},
            "source": [
                "import os\n",
                "import openai\n",
                "\n",
                "from dotenv import load_dotenv, find_dotenv\n",
                "_ = load_dotenv(find_dotenv()) \n",
                "openai.api_key = os.environ['OPENAI_API_KEY']"
            ],
            "execution_count": null,
            "outputs": []
        },
        {
            "cell_type": "code",
            "metadata": {},
            "source": [
                "from typing import List\n",
                "from pydantic import BaseModel, Field\n",
                "\n",
                "from langchain.utils.openai_functions import convert_pydantic_to_openai_function\n",
                "from langchain.chat_models import ChatOpenAI\n",
                "from langchain.prompts import ChatPromptTemplate"
            ],
            "execution_count": null,
            "outputs": []
        },
        {
            "cell_type": "markdown",
            "metadata": {},
            "source": [
                "# Pydantic Syntax\n",
                "\n",
                "## Basics\n",
                "\n",
                "- Pydantic data classes are a blend of Python's data classes with the validation power of Pydantic. \n",
                "\n",
                "- They offer a concise way to define data structures while ensuring that the data adheres to specified types and constraints.\n",
                "\n",
                "## Create class with standard Python"
            ]
        },
        {
            "cell_type": "code",
            "metadata": {},
            "source": [
                "class User:\n",
                "    def __init__(self, name: str, age: int, email: str):\n",
                "        self.name = name\n",
                "        self.age = age\n",
                "        self.email = email"
            ],
            "execution_count": null,
            "outputs": []
        },
        {
            "cell_type": "markdown",
            "metadata": {},
            "source": [
                "## Creata an instance {.smaller}"
            ]
        },
        {
            "cell_type": "code",
            "metadata": {},
            "source": [
                "foo = User(name=\"Joe\",age=32, email=\"joe@gmail.com\")"
            ],
            "execution_count": null,
            "outputs": []
        },
        {
            "cell_type": "markdown",
            "metadata": {},
            "source": [
                ""
            ]
        },
        {
            "cell_type": "code",
            "metadata": {},
            "source": [
                "foo.name"
            ],
            "execution_count": null,
            "outputs": []
        },
        {
            "cell_type": "markdown",
            "metadata": {},
            "source": [
                "- 'Joe'\n",
                "\n",
                ""
            ]
        },
        {
            "cell_type": "code",
            "metadata": {},
            "source": [
                "foo = User(name=\"Joe\",age=\"bar\", email=\"joe@gmail.com\")"
            ],
            "execution_count": null,
            "outputs": []
        },
        {
            "cell_type": "markdown",
            "metadata": {},
            "source": [
                ""
            ]
        },
        {
            "cell_type": "code",
            "metadata": {},
            "source": [
                "foo.age"
            ],
            "execution_count": null,
            "outputs": []
        },
        {
            "cell_type": "markdown",
            "metadata": {},
            "source": [
                "- 'bar'\n",
                "\n",
                "## Create class with Pydantic"
            ]
        },
        {
            "cell_type": "code",
            "metadata": {},
            "source": [
                "class pUser(BaseModel):\n",
                "    name: str\n",
                "    age: int\n",
                "    email: str"
            ],
            "execution_count": null,
            "outputs": []
        },
        {
            "cell_type": "markdown",
            "metadata": {},
            "source": [
                "## Create instance {.smaller}"
            ]
        },
        {
            "cell_type": "code",
            "metadata": {},
            "source": [
                "foo_p = pUser(name=\"Jane\", age=32, email=\"jane@gmail.com\")"
            ],
            "execution_count": null,
            "outputs": []
        },
        {
            "cell_type": "markdown",
            "metadata": {},
            "source": [
                ""
            ]
        },
        {
            "cell_type": "code",
            "metadata": {},
            "source": [
                "foo_p.name"
            ],
            "execution_count": null,
            "outputs": []
        },
        {
            "cell_type": "markdown",
            "metadata": {},
            "source": [
                "- 'Jane'\n",
                "\n",
                ""
            ]
        },
        {
            "cell_type": "code",
            "metadata": {},
            "source": [
                "foo_p = pUser(name=\"Jane\", age=\"bar\", email=\"jane@gmail.com\")"
            ],
            "execution_count": null,
            "outputs": []
        },
        {
            "cell_type": "markdown",
            "metadata": {},
            "source": [
                "- ValidationError: 1 validation error for pUser age value is not a valid integer (type=type_error.integer)\n",
                "\n",
                "\n",
                "## Nest data structures\n",
                "\n",
                "- Define class type which includes another object (nest objects)\n",
                "\n",
                ""
            ]
        },
        {
            "cell_type": "code",
            "metadata": {},
            "source": [
                "class Class(BaseModel):\n",
                "    students: List[pUser]"
            ],
            "execution_count": null,
            "outputs": []
        },
        {
            "cell_type": "markdown",
            "metadata": {},
            "source": [
                ""
            ]
        },
        {
            "cell_type": "code",
            "metadata": {},
            "source": [
                "obj = Class(\n",
                "    students=[pUser(name=\"Jane\", age=32, email=\"jane@gmail.com\")]\n",
                ")"
            ],
            "execution_count": null,
            "outputs": []
        },
        {
            "cell_type": "markdown",
            "metadata": {},
            "source": [
                ""
            ]
        },
        {
            "cell_type": "code",
            "metadata": {},
            "source": [
                "obj"
            ],
            "execution_count": null,
            "outputs": []
        },
        {
            "cell_type": "markdown",
            "metadata": {},
            "source": [
                "- Class(students=[pUser(name='Jane', age=32, email='jane@gmail.com')])\n",
                "\n",
                "# Pydantic to OpenAI function definition\n",
                "\n",
                "## Weather search function\n",
                "\n",
                "- [Docstring](https://peps.python.org/pep-0257/#what-is-a-docstring) is required\n",
                "\n",
                ""
            ]
        },
        {
            "cell_type": "code",
            "metadata": {},
            "source": [
                "class WeatherSearch(BaseModel):\n",
                "    \"\"\"Call this with an airport code to get the weather at that airport\"\"\"\n",
                "    airport_code: str = Field(description=\"airport code to get weather for\")"
            ],
            "execution_count": null,
            "outputs": []
        },
        {
            "cell_type": "markdown",
            "metadata": {},
            "source": [
                "- Pass in class type\n",
                "\n",
                ""
            ]
        },
        {
            "cell_type": "code",
            "metadata": {},
            "source": [
                "weather_function = convert_pydantic_to_openai_function(WeatherSearch)"
            ],
            "execution_count": null,
            "outputs": []
        },
        {
            "cell_type": "markdown",
            "metadata": {},
            "source": [
                "## Inspect class type"
            ]
        },
        {
            "cell_type": "code",
            "metadata": {},
            "source": [
                "weather_function"
            ],
            "execution_count": null,
            "outputs": []
        },
        {
            "cell_type": "markdown",
            "metadata": {},
            "source": [
                "{'name': 'WeatherSearch',\n",
                " 'description': 'Call this with an airport code to get the weather at that airport',\n",
                " 'parameters': {'title': 'WeatherSearch',\n",
                "  'description': 'Call this with an airport code to get the weather at that airport',\n",
                "  'type': 'object',\n",
                "  'properties': {'airport_code': {'title': 'Airport Code',\n",
                "    'description': 'airport code to get weather for',\n",
                "    'type': 'string'}},\n",
                "  'required': ['airport_code']}}\n",
                "\n",
                "\n",
                "# Combine OpenAI with LEL\n",
                "\n",
                "## Use model directly"
            ]
        },
        {
            "cell_type": "code",
            "metadata": {},
            "source": [
                "model = ChatOpenAI()"
            ],
            "execution_count": null,
            "outputs": []
        },
        {
            "cell_type": "markdown",
            "metadata": {},
            "source": [
                ""
            ]
        },
        {
            "cell_type": "code",
            "metadata": {},
            "source": [
                "model.invoke(\"what is the weather in SF today?\", functions=[weather_function])"
            ],
            "execution_count": null,
            "outputs": []
        },
        {
            "cell_type": "markdown",
            "metadata": {},
            "source": [
                "- AIMessage(content='', additional_kwargs={'function_call': {'name': 'WeatherSearch', 'arguments': '{\\n  \"airport_code\": \"SFO\"\\n}'}})\n",
                "\n",
                "## Use bind "
            ]
        },
        {
            "cell_type": "code",
            "metadata": {},
            "source": [
                "model_with_function = model.bind(functions=[weather_function])"
            ],
            "execution_count": null,
            "outputs": []
        },
        {
            "cell_type": "markdown",
            "metadata": {},
            "source": [
                ""
            ]
        },
        {
            "cell_type": "code",
            "metadata": {},
            "source": [
                "model_with_function.invoke(\"what is the weather in sf?\")"
            ],
            "execution_count": null,
            "outputs": []
        },
        {
            "cell_type": "markdown",
            "metadata": {},
            "source": [
                "- AIMessage(content='', additional_kwargs={'function_call': {'name': 'WeatherSearch', 'arguments': '{\\n  \"airport_code\": \"SFO\"\\n}'}})\n",
                "\n",
                "## Forcing it to use a function\n"
            ]
        },
        {
            "cell_type": "code",
            "metadata": {},
            "source": [
                "model_with_forced_function = model.bind(functions=[weather_function], function_call={\"name\":\"WeatherSearch\"})"
            ],
            "execution_count": null,
            "outputs": []
        },
        {
            "cell_type": "markdown",
            "metadata": {},
            "source": [
                ""
            ]
        },
        {
            "cell_type": "code",
            "metadata": {},
            "source": [
                "model_with_forced_function.invoke(\"what is the weather in sf?\")"
            ],
            "execution_count": null,
            "outputs": []
        },
        {
            "cell_type": "markdown",
            "metadata": {},
            "source": [
                "- AIMessage(content='', additional_kwargs={'function_call': {'name': 'WeatherSearch', 'arguments': '{\\n  \"airport_code\": \"SFO\"\\n}'}})\n",
                "\n",
                ""
            ]
        },
        {
            "cell_type": "code",
            "metadata": {},
            "source": [
                "model_with_forced_function.invoke(\"hi!\")"
            ],
            "execution_count": null,
            "outputs": []
        },
        {
            "cell_type": "markdown",
            "metadata": {},
            "source": [
                "- AIMessage(content='', additional_kwargs={'function_call': {'name': 'WeatherSearch', 'arguments': '{\\n  \"airport_code\": \"SFO\"\\n}'}})\n",
                "\n",
                "# Using in a chain\n",
                "\n",
                "## Prompt template\n",
                "\n",
                "We can use this model bound to function in a chain as we normally would"
            ]
        },
        {
            "cell_type": "code",
            "metadata": {},
            "source": [
                "prompt = ChatPromptTemplate.from_messages([\n",
                "    (\"system\", \"You are a helpful assistant\"),\n",
                "    (\"user\", \"{input}\")\n",
                "])"
            ],
            "execution_count": null,
            "outputs": []
        },
        {
            "cell_type": "markdown",
            "metadata": {},
            "source": [
                "## Chain"
            ]
        },
        {
            "cell_type": "code",
            "metadata": {},
            "source": [
                "chain = prompt | model_with_function"
            ],
            "execution_count": null,
            "outputs": []
        },
        {
            "cell_type": "markdown",
            "metadata": {},
            "source": [
                ""
            ]
        },
        {
            "cell_type": "code",
            "metadata": {},
            "source": [
                "chain.invoke({\"input\": \"what is the weather in sf?\"})"
            ],
            "execution_count": null,
            "outputs": []
        },
        {
            "cell_type": "markdown",
            "metadata": {},
            "source": [
                "- AIMessage(content='', additional_kwargs={'function_call': {'name': 'WeatherSearch', 'arguments': '{\\n  \"airport_code\": \"SFO\"\\n}'}})\n",
                "\n",
                "## Using multiple functions\n",
                "\n",
                "\n",
                "## Create ArtistSearch function {.smaller}\n",
                "\n",
                "Even better, we can pass a set of function and let the LLM decide which to use based on the question context."
            ]
        },
        {
            "cell_type": "code",
            "metadata": {},
            "source": [
                "class ArtistSearch(BaseModel):\n",
                "    \"\"\"Call this to get the names of songs by a particular artist\"\"\"\n",
                "    artist_name: str = Field(description=\"name of artist to look up\")\n",
                "    n: int = Field(description=\"number of results\")"
            ],
            "execution_count": null,
            "outputs": []
        },
        {
            "cell_type": "markdown",
            "metadata": {},
            "source": [
                ""
            ]
        },
        {
            "cell_type": "code",
            "metadata": {},
            "source": [
                "functions = [\n",
                "    convert_pydantic_to_openai_function(WeatherSearch),\n",
                "    convert_pydantic_to_openai_function(ArtistSearch),\n",
                "]"
            ],
            "execution_count": null,
            "outputs": []
        },
        {
            "cell_type": "markdown",
            "metadata": {},
            "source": [
                ""
            ]
        },
        {
            "cell_type": "code",
            "metadata": {},
            "source": [
                "model_with_functions = model.bind(functions=functions)"
            ],
            "execution_count": null,
            "outputs": []
        },
        {
            "cell_type": "markdown",
            "metadata": {},
            "source": [
                "## Invoke function with weather {.smaller}"
            ]
        },
        {
            "cell_type": "code",
            "metadata": {},
            "source": [
                "model_with_functions.invoke(\"what is the weather in sf?\")"
            ],
            "execution_count": null,
            "outputs": []
        },
        {
            "cell_type": "markdown",
            "metadata": {},
            "source": [
                "- AIMessage(content='', additional_kwargs={'function_call': {'name': 'WeatherSearch', 'arguments': '{\\n  \"airport_code\": \"SFO\"\\n}'}})\n",
                "\n",
                "## Invoke function with three songs {.smaller}"
            ]
        },
        {
            "cell_type": "code",
            "metadata": {},
            "source": [
                "model_with_functions.invoke(\"what are three songs by taylor swift?\")"
            ],
            "execution_count": null,
            "outputs": []
        },
        {
            "cell_type": "markdown",
            "metadata": {},
            "source": [
                "- AIMessage(content='', additional_kwargs={'function_call': {'name': 'ArtistSearch', 'arguments': '{\\n  \"artist_name\": \"taylor swift\",\\n  \"n\": 3\\n}'}})\n",
                "\n",
                "## Invoke function with hi {.smaller}"
            ]
        },
        {
            "cell_type": "code",
            "metadata": {},
            "source": [
                "model_with_functions.invoke(\"hi!\")"
            ],
            "execution_count": null,
            "outputs": []
        }
    ],
    "metadata": {
        "kernelspec": {
            "name": "python3",
            "language": "python",
            "display_name": "Python 3 (ipykernel)"
        }
    },
    "nbformat": 4,
    "nbformat_minor": 4
}