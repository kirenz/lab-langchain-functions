{
    "cells": [
        {
            "cell_type": "markdown",
            "metadata": {},
            "source": [
                "# Tagging and Extraction Using OpenAI functions\n",
                "\n",
                "\n",
                "# Setup {.smaller}"
            ]
        },
        {
            "cell_type": "code",
            "metadata": {},
            "source": [
                "import os\n",
                "import openai\n",
                "\n",
                "from dotenv import load_dotenv, find_dotenv\n",
                "_ = load_dotenv(find_dotenv()) \n",
                "openai.api_key = os.environ['OPENAI_API_KEY']"
            ],
            "execution_count": null,
            "outputs": []
        },
        {
            "cell_type": "code",
            "metadata": {},
            "source": [
                "from pydantic import BaseModel, Field\n",
                "from typing import List\n",
                "from typing import Optional\n",
                "\n",
                "from langchain.utils.openai_functions import convert_pydantic_to_openai_function\n",
                "from langchain.prompts import ChatPromptTemplate\n",
                "from langchain.chat_models import ChatOpenAI\n",
                "from langchain.output_parsers.openai_functions import JsonOutputFunctionsParser\n",
                "from langchain.output_parsers.openai_functions import JsonKeyOutputFunctionsParser\n",
                "from langchain.document_loaders import WebBaseLoader\n",
                "from langchain.text_splitter import RecursiveCharacterTextSplitter\n",
                "from langchain.schema.runnable import RunnableLambda"
            ],
            "execution_count": null,
            "outputs": []
        },
        {
            "cell_type": "markdown",
            "metadata": {},
            "source": [
                "# Tagging\n",
                "\n",
                "## Create tagging class"
            ]
        },
        {
            "cell_type": "code",
            "metadata": {},
            "source": [
                "class Tagging(BaseModel):\n",
                "    \"\"\"Tag the piece of text with particular info.\"\"\"\n",
                "    sentiment: str = Field(description=\"sentiment of text, should be `pos`, `neg`, or `neutral`\")\n",
                "    language: str = Field(description=\"language of text (should be ISO 639-1 code)\")"
            ],
            "execution_count": null,
            "outputs": []
        },
        {
            "cell_type": "markdown",
            "metadata": {},
            "source": [
                "## Take a look at the class {.smaller}"
            ]
        },
        {
            "cell_type": "code",
            "metadata": {},
            "source": [
                "convert_pydantic_to_openai_function(Tagging)"
            ],
            "execution_count": null,
            "outputs": []
        },
        {
            "cell_type": "markdown",
            "metadata": {},
            "source": [
                "{'name': 'Tagging',\n",
                " 'description': 'Tag the piece of text with particular info.',\n",
                " 'parameters': {'title': 'Tagging',\n",
                "  'description': 'Tag the piece of text with particular info.',\n",
                "  'type': 'object',\n",
                "  'properties': {'sentiment': {'title': 'Sentiment',\n",
                "    'description': 'sentiment of text, should be `pos`, `neg`, or `neutral`',\n",
                "    'type': 'string'},\n",
                "   'language': {'title': 'Language',\n",
                "    'description': 'language of text (should be ISO 639-1 code)',\n",
                "    'type': 'string'}},\n",
                "  'required': ['sentiment', 'language']}}\n",
                "\n",
                "\n",
                "## Create model, tagging function and prompt {.smaller}"
            ]
        },
        {
            "cell_type": "code",
            "metadata": {},
            "source": [
                "model = ChatOpenAI(temperature=0)"
            ],
            "execution_count": null,
            "outputs": []
        },
        {
            "cell_type": "markdown",
            "metadata": {},
            "source": [
                ""
            ]
        },
        {
            "cell_type": "code",
            "metadata": {},
            "source": [
                "tagging_functions = [convert_pydantic_to_openai_function(Tagging)]"
            ],
            "execution_count": null,
            "outputs": []
        },
        {
            "cell_type": "markdown",
            "metadata": {},
            "source": [
                ""
            ]
        },
        {
            "cell_type": "code",
            "metadata": {},
            "source": [
                "prompt = ChatPromptTemplate.from_messages([\n",
                "    (\"system\", \"Think carefully, and then tag the text as instructed\"),\n",
                "    (\"user\", \"{input}\")\n",
                "])"
            ],
            "execution_count": null,
            "outputs": []
        },
        {
            "cell_type": "markdown",
            "metadata": {},
            "source": [
                "## Bind model to tagging function and create chain\n",
                "\n",
                "We force the model to use the tagging functions"
            ]
        },
        {
            "cell_type": "code",
            "metadata": {},
            "source": [
                "model_with_functions = model.bind(\n",
                "    functions=tagging_functions,\n",
                "    function_call={\"name\": \"Tagging\"}\n",
                ")"
            ],
            "execution_count": null,
            "outputs": []
        },
        {
            "cell_type": "markdown",
            "metadata": {},
            "source": [
                ""
            ]
        },
        {
            "cell_type": "code",
            "metadata": {},
            "source": [
                "tagging_chain = prompt | model_with_functions"
            ],
            "execution_count": null,
            "outputs": []
        },
        {
            "cell_type": "markdown",
            "metadata": {},
            "source": [
                "## Call the function with example 1"
            ]
        },
        {
            "cell_type": "code",
            "metadata": {},
            "source": [
                "tagging_chain.invoke({\"input\": \"I like the book Sapiens\"})"
            ],
            "execution_count": null,
            "outputs": []
        },
        {
            "cell_type": "markdown",
            "metadata": {},
            "source": [
                "- AIMessage(content='', additional_kwargs={'function_call': {'name': 'Tagging', 'arguments': '{\\n  \"sentiment\": \"pos\",\\n  \"language\": \"en\"\\n}'}})\n",
                "\n",
                "## Call the function with example 2\n"
            ]
        },
        {
            "cell_type": "code",
            "metadata": {},
            "source": [
                "tagging_chain.invoke({\"input\": \"Das 'Buch Eine Anleitung zum guten Leben: Wie Sie die alte Kunst des Stoizismus' ist sehr lesenswert\"})"
            ],
            "execution_count": null,
            "outputs": []
        },
        {
            "cell_type": "markdown",
            "metadata": {},
            "source": [
                "- AIMessage(content='', additional_kwargs={'function_call': {'name': 'Tagging', 'arguments': '{\\n  \"sentiment\": \"pos\",\\n  \"language\": \"de\"\\n}'}})\n",
                "\n",
                "\n",
                "## Use output parser {.smaller}\n",
                "\n",
                "- Obtain a cleaner result with `JsonOutputFunctionsParser()`\n",
                "\n",
                ""
            ]
        },
        {
            "cell_type": "code",
            "metadata": {},
            "source": [
                "tagging_chain = prompt | model_with_functions | JsonOutputFunctionsParser()"
            ],
            "execution_count": null,
            "outputs": []
        },
        {
            "cell_type": "markdown",
            "metadata": {},
            "source": [
                "\n"
            ]
        },
        {
            "cell_type": "code",
            "metadata": {},
            "source": [
                "tagging_chain.invoke({\"input\": \"Das 'Buch Eine Anleitung zum guten Leben: Wie Sie die alte Kunst des Stoizismus' ist sehr lesenswert\"})"
            ],
            "execution_count": null,
            "outputs": []
        },
        {
            "cell_type": "markdown",
            "metadata": {},
            "source": [
                "- {'sentiment': 'pos', 'language': 'de'}\n",
                "\n",
                "# Extraction\n",
                "\n",
                "Extraction is similar to tagging, but used for extracting multiple pieces of information.\n",
                "\n",
                "## Define class {.smaller}"
            ]
        },
        {
            "cell_type": "code",
            "metadata": {},
            "source": [
                "class Person(BaseModel):\n",
                "    \"\"\"Information about a person.\"\"\"\n",
                "    name: str = Field(description=\"person's name\")\n",
                "    age: Optional[int] = Field(description=\"person's age\")"
            ],
            "execution_count": null,
            "outputs": []
        },
        {
            "cell_type": "markdown",
            "metadata": {},
            "source": [
                ""
            ]
        },
        {
            "cell_type": "code",
            "metadata": {},
            "source": [
                "class Information(BaseModel):\n",
                "    \"\"\"Information to extract.\"\"\"\n",
                "    people: List[Person] = Field(description=\"List of info about people\")"
            ],
            "execution_count": null,
            "outputs": []
        },
        {
            "cell_type": "markdown",
            "metadata": {},
            "source": [
                "## Convert Pydantic to OpenAI function {.smaller}"
            ]
        },
        {
            "cell_type": "code",
            "metadata": {},
            "source": [
                "convert_pydantic_to_openai_function(Information)"
            ],
            "execution_count": null,
            "outputs": []
        },
        {
            "cell_type": "markdown",
            "metadata": {},
            "source": [
                "{'name': 'Information',\n",
                " 'description': 'Information to extract.',\n",
                " 'parameters': {'title': 'Information',\n",
                "  'description': 'Information to extract.',\n",
                "  'type': 'object',\n",
                "  'properties': {'people': {'title': 'People',\n",
                "    'description': 'List of info about people',\n",
                "    'type': 'array',\n",
                "    'items': {'title': 'Person',\n",
                "     'description': 'Information about a person.',\n",
                "     'type': 'object',\n",
                "     'properties': {'name': {'title': 'Name',\n",
                "       'description': \"person's name\",\n",
                "       'type': 'string'},\n",
                "      'age': {'title': 'Age',\n",
                "       'description': \"person's age\",\n",
                "       'type': 'integer'}},\n",
                "     'required': ['name']}}},\n",
                "  'required': ['people']}}\n",
                "\n",
                "\n",
                "## Set up model"
            ]
        },
        {
            "cell_type": "code",
            "metadata": {},
            "source": [
                "extraction_functions = [convert_pydantic_to_openai_function(Information)]\n",
                "\n",
                "extraction_model = model.bind(functions=extraction_functions, function_call={\"name\": \"Information\"})"
            ],
            "execution_count": null,
            "outputs": []
        },
        {
            "cell_type": "markdown",
            "metadata": {},
            "source": [
                "## Test model"
            ]
        },
        {
            "cell_type": "code",
            "metadata": {},
            "source": [
                "extraction_model.invoke(\"Joe is 30, his mom is Martha\")"
            ],
            "execution_count": null,
            "outputs": []
        },
        {
            "cell_type": "markdown",
            "metadata": {},
            "source": [
                "- AIMessage(content='', additional_kwargs={'function_call': {'name': 'Information', 'arguments': '{\\n  \"people\": [\\n    {\\n      \"name\": \"Joe\",\\n      \"age\": 30\\n    },\\n    {\\n      \"name\": \"Martha\",\\n      \"age\": 0\\n    }\\n  ]\\n}'}})\n",
                "\n",
                "- Model inputs age 0 if age isn't provided\n",
                "\n",
                "\n",
                "## Update prompt {.smaller}"
            ]
        },
        {
            "cell_type": "code",
            "metadata": {},
            "source": [
                "prompt = ChatPromptTemplate.from_messages([\n",
                "    (\"system\", \"Extract the relevant information, if not explicitly provided do not guess. Extract partial info\"),\n",
                "    (\"human\", \"{input}\")\n",
                "])"
            ],
            "execution_count": null,
            "outputs": []
        },
        {
            "cell_type": "markdown",
            "metadata": {},
            "source": [
                ""
            ]
        },
        {
            "cell_type": "code",
            "metadata": {},
            "source": [
                "extraction_chain = prompt | extraction_model"
            ],
            "execution_count": null,
            "outputs": []
        },
        {
            "cell_type": "markdown",
            "metadata": {},
            "source": [
                ""
            ]
        },
        {
            "cell_type": "code",
            "metadata": {},
            "source": [
                "extraction_chain.invoke({\"input\": \"Joe is 30, his mom is Martha\"})"
            ],
            "execution_count": null,
            "outputs": []
        },
        {
            "cell_type": "markdown",
            "metadata": {},
            "source": [
                "- AIMessage(content='', additional_kwargs={'function_call': {'name': 'Information', 'arguments': '{\\n  \"people\": [\\n    {\\n      \"name\": \"Joe\",\\n      \"age\": 30\\n    },\\n    {\\n      \"name\": \"Martha\"\\n    }\\n  ]\\n}'}})\n",
                "\n",
                "\n",
                "## Parse output\n"
            ]
        },
        {
            "cell_type": "code",
            "metadata": {},
            "source": [
                "extraction_chain = prompt | extraction_model | JsonOutputFunctionsParser()"
            ],
            "execution_count": null,
            "outputs": []
        },
        {
            "cell_type": "markdown",
            "metadata": {},
            "source": [
                ""
            ]
        },
        {
            "cell_type": "code",
            "metadata": {},
            "source": [
                "extraction_chain.invoke({\"input\": \"Joe is 30, his mom is Martha\"})"
            ],
            "execution_count": null,
            "outputs": []
        },
        {
            "cell_type": "markdown",
            "metadata": {},
            "source": [
                "- {'people': [{'name': 'Joe', 'age': 30}, {'name': 'Martha'}]}\n",
                "\n",
                "\n",
                "## Use different output parser\n",
                "\n",
                "- Use `JsonKeyOutputFunctionsParser()`to only extract relevant info\n",
                "\n",
                ""
            ]
        },
        {
            "cell_type": "code",
            "metadata": {},
            "source": [
                "extraction_chain = prompt | extraction_model | JsonKeyOutputFunctionsParser(key_name=\"people\")"
            ],
            "execution_count": null,
            "outputs": []
        },
        {
            "cell_type": "markdown",
            "metadata": {},
            "source": [
                ""
            ]
        },
        {
            "cell_type": "code",
            "metadata": {},
            "source": [
                "extraction_chain.invoke({\"input\": \"Joe is 30, his mom is Martha\"})"
            ],
            "execution_count": null,
            "outputs": []
        },
        {
            "cell_type": "markdown",
            "metadata": {},
            "source": [
                "- [{'name': 'Joe', 'age': 30}, {'name': 'Martha'}]\n",
                "\n",
                "# Blog post example\n",
                "\n",
                "We can apply tagging and axtracting to a larger body of text.\n",
                "\n",
                "\n",
                "\n",
                "## Load document"
            ]
        },
        {
            "cell_type": "code",
            "metadata": {},
            "source": [
                "loader = WebBaseLoader(\"https://lilianweng.github.io/posts/2023-06-23-agent/\")\n",
                "\n",
                "documents = loader.load()"
            ],
            "execution_count": null,
            "outputs": []
        },
        {
            "cell_type": "markdown",
            "metadata": {},
            "source": [
                ""
            ]
        },
        {
            "cell_type": "code",
            "metadata": {},
            "source": [
                "doc = documents[0]"
            ],
            "execution_count": null,
            "outputs": []
        },
        {
            "cell_type": "markdown",
            "metadata": {},
            "source": [
                "## Inspect content {.smaller}\n"
            ]
        },
        {
            "cell_type": "code",
            "metadata": {},
            "source": [
                "page_content = doc.page_content[:10000]"
            ],
            "execution_count": null,
            "outputs": []
        },
        {
            "cell_type": "markdown",
            "metadata": {},
            "source": [
                ""
            ]
        },
        {
            "cell_type": "code",
            "metadata": {},
            "source": [
                "print(page_content[:1000])"
            ],
            "execution_count": null,
            "outputs": []
        },
        {
            "cell_type": "markdown",
            "metadata": {},
            "source": [
                "\n",
                "\n",
                "```markdown\n",
                "LLM Powered Autonomous Agents | Lil'Log\n",
                "\n",
                "Lil'Log\n",
                "\n",
                "Posts\n",
                "\n",
                "Archive\n",
                "\n",
                "Search\n",
                "\n",
                "Tags\n",
                "\n",
                "FAQ\n",
                "\n",
                "emojisearch.app\n",
                "\n",
                "      LLM Powered Autonomous Agents\n",
                "    \n",
                "June 23, 2023 · 31 min · Lilian Weng\n",
                "\n",
                "Table of Contents\n",
                "Agent System Overview\n",
                "Component One: Planning\n",
                "Task Decomposition\n",
                "Self-Reflection\n",
                "Component Two: Memory\n",
                "Types of Memory\n",
                "Maximum Inner Product Search (MIPS)\n",
                "Component Three: Tool Use\n",
                "Case Studies\n",
                "Scientific Discovery Agent\n",
                "Generative Agents Simulation\n",
                "Proof-of-Concept Examples\n",
                "Challenges\n",
                "Citation\n",
                "References\n",
                "\n",
                "Building agents with LLM (large language model) as its core controller is a cool concept. Several proof-of-concepts demos, such as AutoGPT, GPT-Engineer and BabyAGI, serve as inspiring examples. The potentiality of LLM extends beyond generating well-written copies, stories, essays and programs; it can be framed as a powerful general problem solver.\n",
                "Agent System Overview#\n",
                "In\n",
                "```\n",
                "\n",
                "# Blog post tagging\n",
                "\n",
                "## Create class to create article overview and tags\n"
            ]
        },
        {
            "cell_type": "code",
            "metadata": {},
            "source": [
                "class Overview(BaseModel):\n",
                "    \"\"\"Overview of a section of text.\"\"\"\n",
                "    summary: str = Field(description=\"Provide a concise summary of the content.\")\n",
                "    language: str = Field(description=\"Provide the language that the content is written in.\")\n",
                "    keywords: str = Field(description=\"Provide keywords related to the content.\")"
            ],
            "execution_count": null,
            "outputs": []
        },
        {
            "cell_type": "markdown",
            "metadata": {},
            "source": [
                "## Setup the chain"
            ]
        },
        {
            "cell_type": "code",
            "metadata": {},
            "source": [
                "overview_tagging_function = [\n",
                "    convert_pydantic_to_openai_function(Overview)\n",
                "]\n",
                "\n",
                "tagging_model = model.bind(\n",
                "    functions=overview_tagging_function,\n",
                "    function_call={\"name\":\"Overview\"}\n",
                ")\n",
                "\n",
                "tagging_chain = prompt | tagging_model | JsonOutputFunctionsParser()"
            ],
            "execution_count": null,
            "outputs": []
        },
        {
            "cell_type": "markdown",
            "metadata": {},
            "source": [
                "## Invoke chain"
            ]
        },
        {
            "cell_type": "code",
            "metadata": {},
            "source": [
                "tagging_chain.invoke({\"input\": page_content})"
            ],
            "execution_count": null,
            "outputs": []
        },
        {
            "cell_type": "markdown",
            "metadata": {},
            "source": [
                "- {'summary': 'This article discusses the concept of building autonomous agents powered by LLM (large language model) as their core controller. It explores the key components of such agents, including planning, memory, and tool use. It also covers various techniques for task decomposition and self-reflection in autonomous agents.',\n",
                " 'language': 'English',\n",
                " 'keywords': 'LLM, autonomous agents, planning, memory, tool use, task decomposition, self-reflection'}\n",
                "\n",
                "# Blog post extraction\n",
                "\n",
                "## Define class to extract papers"
            ]
        },
        {
            "cell_type": "code",
            "metadata": {},
            "source": [
                "class Paper(BaseModel):\n",
                "    \"\"\"Information about papers mentioned.\"\"\"\n",
                "    title: str\n",
                "    author: Optional[str]\n",
                "\n",
                "\n",
                "class Info(BaseModel):\n",
                "    \"\"\"Information to extract\"\"\"\n",
                "    papers: List[Paper]"
            ],
            "execution_count": null,
            "outputs": []
        },
        {
            "cell_type": "markdown",
            "metadata": {},
            "source": [
                "## Setup extraction chain"
            ]
        },
        {
            "cell_type": "code",
            "metadata": {},
            "source": [
                "paper_extraction_function = [\n",
                "    convert_pydantic_to_openai_function(Info)\n",
                "]\n",
                "\n",
                "extraction_model = model.bind(\n",
                "    functions=paper_extraction_function, \n",
                "    function_call={\"name\":\"Info\"}\n",
                ")\n",
                "\n",
                "extraction_chain = prompt | extraction_model | JsonKeyOutputFunctionsParser(key_name=\"papers\")"
            ],
            "execution_count": null,
            "outputs": []
        },
        {
            "cell_type": "markdown",
            "metadata": {},
            "source": [
                "## Invoke chain"
            ]
        },
        {
            "cell_type": "code",
            "metadata": {},
            "source": [
                "extraction_chain.invoke({\"input\": page_content})"
            ],
            "execution_count": null,
            "outputs": []
        },
        {
            "cell_type": "markdown",
            "metadata": {},
            "source": [
                "- [{'title': 'LLM Powered Autonomous Agents', 'author': 'Lilian Weng'}]\n",
                "\n",
                "\n",
                "## Update sytem message {.smaller}\n"
            ]
        },
        {
            "cell_type": "code",
            "metadata": {},
            "source": [
                "template = \"\"\"A article will be passed to you. Extract from it all papers that are mentioned by this article. \n",
                "\n",
                "Do not extract the name of the article itself. If no papers are mentioned that's fine - you don't need to extract any! Just return an empty list.\n",
                "\n",
                "Do not make up or guess ANY extra information. Only extract what exactly is in the text.\"\"\"\n",
                "\n",
                "prompt = ChatPromptTemplate.from_messages([\n",
                "    (\"system\", template),\n",
                "    (\"human\", \"{input}\")\n",
                "])"
            ],
            "execution_count": null,
            "outputs": []
        },
        {
            "cell_type": "markdown",
            "metadata": {},
            "source": [
                "## Set up chain"
            ]
        },
        {
            "cell_type": "code",
            "metadata": {},
            "source": [
                "extraction_chain = prompt | extraction_model | JsonKeyOutputFunctionsParser(key_name=\"papers\")"
            ],
            "execution_count": null,
            "outputs": []
        },
        {
            "cell_type": "markdown",
            "metadata": {},
            "source": [
                "## Invoke chain\n"
            ]
        },
        {
            "cell_type": "code",
            "metadata": {},
            "source": [
                "extraction_chain.invoke({\"input\": page_content})"
            ],
            "execution_count": null,
            "outputs": []
        },
        {
            "cell_type": "markdown",
            "metadata": {},
            "source": [
                "- [{'title': 'Chain of thought (CoT; Wei et al. 2022)', 'author': 'Wei et al.'},\n",
                " {'title': 'Tree of Thoughts (Yao et al. 2023)', 'author': 'Yao et al.'},\n",
                " {'title': 'LLM+P (Liu et al. 2023)', 'author': 'Liu et al.'},\n",
                " {'title': 'ReAct (Yao et al. 2023)', 'author': 'Yao et al.'},\n",
                " {'title': 'Reflexion (Shinn & Labash 2023)', 'author': 'Shinn & Labash'},\n",
                " {'title': 'Chain of Hindsight (CoH; Liu et al. 2023)',\n",
                "  'author': 'Liu et al.'},\n",
                " {'title': 'Algorithm Distillation (AD; Laskin et al. 2023)',\n",
                "  'author': 'Laskin et al.'}]\n",
                "\n",
                "\n",
                "## Test chain"
            ]
        },
        {
            "cell_type": "code",
            "metadata": {},
            "source": [
                "extraction_chain.invoke({\"input\": \"hi\"})"
            ],
            "execution_count": null,
            "outputs": []
        },
        {
            "cell_type": "markdown",
            "metadata": {},
            "source": [
                "- []\n",
                "\n",
                "# Extraction for the complete blog post\n",
                "\n",
                "\n",
                "## Split the text"
            ]
        },
        {
            "cell_type": "code",
            "metadata": {},
            "source": [
                "text_splitter = RecursiveCharacterTextSplitter(chunk_overlap=0)"
            ],
            "execution_count": null,
            "outputs": []
        },
        {
            "cell_type": "markdown",
            "metadata": {},
            "source": [
                ""
            ]
        },
        {
            "cell_type": "code",
            "metadata": {},
            "source": [
                "splits = text_splitter.split_text(doc.page_content)"
            ],
            "execution_count": null,
            "outputs": []
        },
        {
            "cell_type": "markdown",
            "metadata": {},
            "source": [
                ""
            ]
        },
        {
            "cell_type": "code",
            "metadata": {},
            "source": [
                "len(splits)"
            ],
            "execution_count": null,
            "outputs": []
        },
        {
            "cell_type": "markdown",
            "metadata": {},
            "source": [
                "- 14\n",
                "\n",
                "## Create function to join the lists"
            ]
        },
        {
            "cell_type": "code",
            "metadata": {},
            "source": [
                "def flatten(matrix):\n",
                "    flat_list = []\n",
                "    for row in matrix:\n",
                "        flat_list += row\n",
                "    return flat_list"
            ],
            "execution_count": null,
            "outputs": []
        },
        {
            "cell_type": "markdown",
            "metadata": {},
            "source": [
                "- Test the function\n",
                "\n",
                ""
            ]
        },
        {
            "cell_type": "code",
            "metadata": {},
            "source": [
                "flatten([[1, 2], [3, 4]])"
            ],
            "execution_count": null,
            "outputs": []
        },
        {
            "cell_type": "markdown",
            "metadata": {},
            "source": [
                "- [1, 2, 3, 4]\n",
                "\n",
                "## Take a look at the splits\n",
                "\n",
                "- The splits are just text. \n",
                "- We need to convert them to a dictionary where the text is the input key.\n",
                "\n",
                ""
            ]
        },
        {
            "cell_type": "code",
            "metadata": {},
            "source": [
                "print(splits[0])"
            ],
            "execution_count": null,
            "outputs": []
        },
        {
            "cell_type": "markdown",
            "metadata": {},
            "source": [
                "## Use RunnableLambda to create function {.smaller}"
            ]
        },
        {
            "cell_type": "code",
            "metadata": {},
            "source": [
                "prep = RunnableLambda(\n",
                "    lambda x: [{\"input\": doc} for doc in text_splitter.split_text(x)]\n",
                ")"
            ],
            "execution_count": null,
            "outputs": []
        },
        {
            "cell_type": "markdown",
            "metadata": {},
            "source": [
                "- Test function\n",
                "\n",
                ""
            ]
        },
        {
            "cell_type": "code",
            "metadata": {},
            "source": [
                "prep.invoke(\"hi\")"
            ],
            "execution_count": null,
            "outputs": []
        },
        {
            "cell_type": "markdown",
            "metadata": {},
            "source": [
                "- [{'input': 'hi'}]\n",
                "\n",
                "\n",
                "## Create chain"
            ]
        },
        {
            "cell_type": "code",
            "metadata": {},
            "source": [
                "chain = prep | extraction_chain.map() | flatten"
            ],
            "execution_count": null,
            "outputs": []
        },
        {
            "cell_type": "markdown",
            "metadata": {},
            "source": [
                "- `extraction_chain` operates over a single element\n",
                "\n",
                "- However, we have a list of elements\n",
                "\n",
                "- Therefore, we call `.map()`\n",
                "\n",
                "\n",
                "## Invoke chain {.smaller}"
            ]
        },
        {
            "cell_type": "code",
            "metadata": {},
            "source": [
                "chain.invoke(doc.page_content)"
            ],
            "execution_count": null,
            "outputs": []
        }
    ],
    "metadata": {
        "kernelspec": {
            "name": "python3",
            "language": "python",
            "display_name": "Python 3 (ipykernel)"
        }
    },
    "nbformat": 4,
    "nbformat_minor": 4
}