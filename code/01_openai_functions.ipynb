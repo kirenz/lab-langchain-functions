{
    "cells": [
        {
            "cell_type": "markdown",
            "metadata": {},
            "source": [
                "# OpenAI Function Calling\n",
                "\n",
                "\n",
                "# Setup"
            ]
        },
        {
            "cell_type": "code",
            "metadata": {},
            "source": [
                "import os\n",
                "import openai\n",
                "import json\n",
                "\n",
                "from dotenv import load_dotenv, find_dotenv\n",
                "_ = load_dotenv(find_dotenv()) \n",
                "openai.api_key = os.environ['OPENAI_API_KEY']"
            ],
            "execution_count": null,
            "outputs": []
        },
        {
            "cell_type": "markdown",
            "metadata": {},
            "source": [
                "# Functions\n",
                "\n",
                "## Weather example function"
            ]
        },
        {
            "cell_type": "code",
            "metadata": {},
            "source": [
                "# Example dummy function hard coded to return the same weather\n",
                "# In production, this could be your backend API or an external API\n",
                "def get_current_weather(location, unit=\"celsius\"):\n",
                "    \"\"\"Get the current weather in a given location\"\"\"\n",
                "    weather_info = {\n",
                "        \"location\": location,\n",
                "        \"temperature\": \"16\",\n",
                "        \"unit\": unit,\n",
                "        \"forecast\": [\"sunny\", \"windy\"],\n",
                "    }\n",
                "    return json.dumps(weather_info)"
            ],
            "execution_count": null,
            "outputs": []
        },
        {
            "cell_type": "markdown",
            "metadata": {},
            "source": [
                "## Define a function"
            ]
        },
        {
            "cell_type": "code",
            "metadata": {},
            "source": [
                "functions = [\n",
                "    {\n",
                "        \"name\": \"get_current_weather\",\n",
                "        \"description\": \"Get the current weather in a given location\",\n",
                "        \"parameters\": {\n",
                "            \"type\": \"object\",\n",
                "            \"properties\": {\n",
                "                \"location\": {\n",
                "                    \"type\": \"string\",\n",
                "                    \"description\": \"The city and state, e.g. Stuttgart, BW\",\n",
                "                },\n",
                "                \"unit\": {\"type\": \"string\", \"enum\": [\"celsius\", \"fahrenheit\"]},\n",
                "            },\n",
                "            \"required\": [\"location\"],\n",
                "        },\n",
                "    }\n",
                "]"
            ],
            "execution_count": null,
            "outputs": []
        },
        {
            "cell_type": "markdown",
            "metadata": {},
            "source": [
                "## Messages {.smaller}"
            ]
        },
        {
            "cell_type": "code",
            "metadata": {},
            "source": [
                "messages = [\n",
                "    {\n",
                "        \"role\": \"user\",\n",
                "        \"content\": \"What's the weather like in Stuttgart?\"\n",
                "    }\n",
                "]"
            ],
            "execution_count": null,
            "outputs": []
        },
        {
            "cell_type": "markdown",
            "metadata": {},
            "source": [
                ""
            ]
        },
        {
            "cell_type": "code",
            "metadata": {},
            "source": [
                "response = openai.ChatCompletion.create(\n",
                "    model=\"gpt-3.5-turbo-0613\",\n",
                "    messages=messages,\n",
                "    functions=functions\n",
                ")"
            ],
            "execution_count": null,
            "outputs": []
        },
        {
            "cell_type": "markdown",
            "metadata": {},
            "source": [
                "## Print response {.smaller}"
            ]
        },
        {
            "cell_type": "code",
            "metadata": {},
            "source": [
                "print(response)"
            ],
            "execution_count": null,
            "outputs": []
        },
        {
            "cell_type": "markdown",
            "metadata": {},
            "source": [
                "{\n",
                "  \"id\": \"chatcmpl-8EzjVmo4zPOq7Z70XEV47HcjF3FBb\",\n",
                "  \"object\": \"chat.completion\",\n",
                "  \"created\": 1698584585,\n",
                "  \"model\": \"gpt-3.5-turbo-0613\",\n",
                "  \"choices\": [\n",
                "    {\n",
                "      \"index\": 0,\n",
                "      \"message\": {\n",
                "        \"role\": \"assistant\",\n",
                "        \"content\": null,\n",
                "        \"function_call\": {\n",
                "          \"name\": \"get_current_weather\",\n",
                "          \"arguments\": \"{\\n  \\\"location\\\": \\\"Stuttgart\\\"\\n}\"\n",
                "        }\n",
                "      },\n",
                "      \"finish_reason\": \"function_call\"\n",
                "    }\n",
                "  ],\n",
                "  \"usage\": {\n",
                "    \"prompt_tokens\": 81,\n",
                "    \"completion_tokens\": 17,\n",
                "    \"total_tokens\": 98\n",
                "  }\n",
                "}\n",
                "## Response message"
            ]
        },
        {
            "cell_type": "code",
            "metadata": {},
            "source": [
                "response_message = response[\"choices\"][0][\"message\"]"
            ],
            "execution_count": null,
            "outputs": []
        },
        {
            "cell_type": "markdown",
            "metadata": {},
            "source": [
                ""
            ]
        },
        {
            "cell_type": "code",
            "metadata": {},
            "source": [
                "response_message"
            ],
            "execution_count": null,
            "outputs": []
        },
        {
            "cell_type": "markdown",
            "metadata": {},
            "source": [
                "<OpenAIObject at 0x120dc2c30> JSON: {\n",
                "  \"role\": \"assistant\",\n",
                "  \"content\": null,\n",
                "  \"function_call\": {\n",
                "    \"name\": \"get_current_weather\",\n",
                "    \"arguments\": \"{\\n  \\\"location\\\": \\\"Stuttgart\\\"\\n}\"\n",
                "  }\n",
                "}\n",
                "\n",
                "## Response message content\n",
                "\n",
                "- Content is empty\n",
                "\n",
                ""
            ]
        },
        {
            "cell_type": "code",
            "metadata": {},
            "source": [
                "response_message[\"content\"]"
            ],
            "execution_count": null,
            "outputs": []
        },
        {
            "cell_type": "markdown",
            "metadata": {},
            "source": [
                "- Function call is a dictionary\n",
                "\n",
                ""
            ]
        },
        {
            "cell_type": "code",
            "metadata": {},
            "source": [
                "response_message[\"function_call\"]"
            ],
            "execution_count": null,
            "outputs": []
        },
        {
            "cell_type": "markdown",
            "metadata": {},
            "source": [
                "- <OpenAIObject at 0x120f9dc10> JSON: {\n",
                "  \"name\": \"get_current_weather\",\n",
                "  \"arguments\": \"{\\n  \\\"location\\\": \\\"Stuttgart\\\"\\n}\"\n",
                "}\n",
                "\n",
                "## Inspect JSON {.smaller}"
            ]
        },
        {
            "cell_type": "code",
            "metadata": {},
            "source": [
                "json.loads(response_message[\"function_call\"][\"arguments\"])"
            ],
            "execution_count": null,
            "outputs": []
        },
        {
            "cell_type": "markdown",
            "metadata": {},
            "source": [
                "{'location': 'Stuttgart'}\n",
                "\n",
                ""
            ]
        },
        {
            "cell_type": "code",
            "metadata": {},
            "source": [
                "args = json.loads(response_message[\"function_call\"][\"arguments\"])"
            ],
            "execution_count": null,
            "outputs": []
        },
        {
            "cell_type": "markdown",
            "metadata": {},
            "source": [
                ""
            ]
        },
        {
            "cell_type": "code",
            "metadata": {},
            "source": [
                "get_current_weather(args)"
            ],
            "execution_count": null,
            "outputs": []
        },
        {
            "cell_type": "markdown",
            "metadata": {},
            "source": [
                "- '{\"location\": {\"location\": \"Stuttgart\"}, \"temperature\": \"16\", \"unit\": \"celsius\", \"forecast\": [\"sunny\", \"windy\"]}'\n",
                "\n",
                "\n",
                "## New message\n",
                "\n",
                "- New message with no relation to weather"
            ]
        },
        {
            "cell_type": "code",
            "metadata": {},
            "source": [
                "messages = [\n",
                "    {\n",
                "        \"role\": \"user\",\n",
                "        \"content\": \"hi!\",\n",
                "    }\n",
                "]"
            ],
            "execution_count": null,
            "outputs": []
        },
        {
            "cell_type": "code",
            "metadata": {},
            "source": [
                "response = openai.ChatCompletion.create(\n",
                "    model=\"gpt-3.5-turbo-0613\",\n",
                "    messages=messages,\n",
                "    functions=functions,\n",
                ")"
            ],
            "execution_count": null,
            "outputs": []
        },
        {
            "cell_type": "markdown",
            "metadata": {},
            "source": [
                "## Show response {.smaller}"
            ]
        },
        {
            "cell_type": "code",
            "metadata": {},
            "source": [
                "print(response)"
            ],
            "execution_count": null,
            "outputs": []
        },
        {
            "cell_type": "markdown",
            "metadata": {},
            "source": [
                "{\n",
                "  \"id\": \"chatcmpl-8GqJyabUr85mp4mGjFLZJuKGOoBu6\",\n",
                "  \"object\": \"chat.completion\",\n",
                "  \"created\": 1699025062,\n",
                "  \"model\": \"gpt-3.5-turbo-0613\",\n",
                "  \"choices\": [\n",
                "    {\n",
                "      \"index\": 0,\n",
                "      \"message\": {\n",
                "        \"role\": \"assistant\",\n",
                "        \"content\": \"Hello! How can I assist you today?\"\n",
                "      },\n",
                "      \"finish_reason\": \"stop\"\n",
                "    }\n",
                "  ],\n",
                "  \"usage\": {\n",
                "    \"prompt_tokens\": 75,\n",
                "    \"completion_tokens\": 10,\n",
                "    \"total_tokens\": 85\n",
                "  }\n",
                "}\n",
                "\n",
                "\n",
                "\n",
                "## Use function call auto"
            ]
        },
        {
            "cell_type": "code",
            "metadata": {},
            "source": [
                "messages = [\n",
                "    {\n",
                "        \"role\": \"user\",\n",
                "        \"content\": \"hi!\",\n",
                "    }\n",
                "]\n",
                "\n",
                "response = openai.ChatCompletion.create(\n",
                "    model=\"gpt-3.5-turbo-0613\",\n",
                "    messages=messages,\n",
                "    functions=functions,\n",
                "    function_call=\"auto\",\n",
                ")\n",
                "print(response)"
            ],
            "execution_count": null,
            "outputs": []
        },
        {
            "cell_type": "markdown",
            "metadata": {},
            "source": [
                "{\n",
                "  \"id\": \"chatcmpl-8Ezl8M209h6uqOXuFrGzVwAoSjXVI\",\n",
                "  \"object\": \"chat.completion\",\n",
                "  \"created\": 1698584686,\n",
                "  \"model\": \"gpt-3.5-turbo-0613\",\n",
                "  \"choices\": [\n",
                "    {\n",
                "      \"index\": 0,\n",
                "      \"message\": {\n",
                "        \"role\": \"assistant\",\n",
                "        \"content\": \"Hello! How can I assist you today?\"\n",
                "      },\n",
                "      \"finish_reason\": \"stop\"\n",
                "    }\n",
                "  ],\n",
                "  \"usage\": {\n",
                "    \"prompt_tokens\": 75,\n",
                "    \"completion_tokens\": 10,\n",
                "    \"total_tokens\": 85\n",
                "  }\n",
                "}\n",
                "\n",
                "\n",
                "## Disable function usage {.smaller}\n",
                "\n",
                "Don't use the function"
            ]
        },
        {
            "cell_type": "code",
            "metadata": {},
            "source": [
                "messages = [\n",
                "    {\n",
                "        \"role\": \"user\",\n",
                "        \"content\": \"hi!\",\n",
                "    }\n",
                "]\n",
                "response = openai.ChatCompletion.create(\n",
                "    model=\"gpt-3.5-turbo-0613\",\n",
                "    messages=messages,\n",
                "    functions=functions,\n",
                "    function_call=\"none\",\n",
                ")\n",
                "print(response)"
            ],
            "execution_count": null,
            "outputs": []
        },
        {
            "cell_type": "markdown",
            "metadata": {},
            "source": [
                "{\n",
                "  \"id\": \"chatcmpl-8GqKcx0cYK0MWb0ONpWqTTbU1hWlJ\",\n",
                "  \"object\": \"chat.completion\",\n",
                "  \"created\": 1699025102,\n",
                "  \"model\": \"gpt-3.5-turbo-0613\",\n",
                "  \"choices\": [\n",
                "    {\n",
                "      \"index\": 0,\n",
                "      \"message\": {\n",
                "        \"role\": \"assistant\",\n",
                "        \"content\": \"Hello! How can I assist you today?\"\n",
                "      },\n",
                "      \"finish_reason\": \"stop\"\n",
                "    }\n",
                "  ],\n",
                "  \"usage\": {\n",
                "    \"prompt_tokens\": 76,\n",
                "    \"completion_tokens\": 9,\n",
                "    \"total_tokens\": 85\n",
                "  }\n",
                "}\n",
                "\n",
                "## Force function usage {.smaller}\n",
                "\n",
                "- force to use the function"
            ]
        },
        {
            "cell_type": "code",
            "metadata": {},
            "source": [
                "messages = [\n",
                "    {\n",
                "        \"role\": \"user\",\n",
                "        \"content\": \"hi!\",\n",
                "    }\n",
                "]\n",
                "response = openai.ChatCompletion.create(\n",
                "    model=\"gpt-3.5-turbo-0613\",\n",
                "    messages=messages,\n",
                "    functions=functions,\n",
                "    function_call={\"name\": \"get_current_weather\"},\n",
                ")\n",
                "print(response)"
            ],
            "execution_count": null,
            "outputs": []
        },
        {
            "cell_type": "markdown",
            "metadata": {},
            "source": [
                "{\n",
                "  \"id\": \"chatcmpl-8GqKwA2jwWb8PmgrXGZANDyxcsO0l\",\n",
                "  \"object\": \"chat.completion\",\n",
                "  \"created\": 1699025122,\n",
                "  \"model\": \"gpt-3.5-turbo-0613\",\n",
                "  \"choices\": [\n",
                "    {\n",
                "      \"index\": 0,\n",
                "      \"message\": {\n",
                "        \"role\": \"assistant\",\n",
                "        \"content\": null,\n",
                "        \"function_call\": {\n",
                "          \"name\": \"get_current_weather\",\n",
                "          \"arguments\": \"{\\n  \\\"location\\\": \\\"Stuttgart, BW\\\"\\n}\"\n",
                "        }\n",
                "      },\n",
                "      \"finish_reason\": \"stop\"\n",
                "    }\n",
                "  ],\n",
                "  \"usage\": {\n",
                "    \"prompt_tokens\": 82,\n",
                "    \"completion_tokens\": 12,\n",
                "    \"total_tokens\": 94\n",
                "  }\n",
                "}\n",
                "\n",
                "## Pass the reults back in the LLM"
            ]
        },
        {
            "cell_type": "code",
            "metadata": {},
            "source": [
                "messages = [\n",
                "    {\n",
                "        \"role\": \"user\",\n",
                "        \"content\": \"What's the weather like in Boston!\",\n",
                "    }\n",
                "]\n",
                "response = openai.ChatCompletion.create(\n",
                "    model=\"gpt-3.5-turbo-0613\",\n",
                "    messages=messages,\n",
                "    functions=functions,\n",
                "    function_call={\"name\": \"get_current_weather\"},\n",
                ")\n",
                "print(response)"
            ],
            "execution_count": null,
            "outputs": []
        },
        {
            "cell_type": "markdown",
            "metadata": {},
            "source": [
                "## Response\n",
                "\n",
                "{\n",
                "  \"id\": \"chatcmpl-8EzqG43iC6CWCOqCQiSWxngMHJNIQ\",\n",
                "  \"object\": \"chat.completion\",\n",
                "  \"created\": 1698585004,\n",
                "  \"model\": \"gpt-3.5-turbo-0613\",\n",
                "  \"choices\": [\n",
                "    {\n",
                "      \"index\": 0,\n",
                "      \"message\": {\n",
                "        \"role\": \"assistant\",\n",
                "        \"content\": null,\n",
                "        \"function_call\": {\n",
                "          \"name\": \"get_current_weather\",\n",
                "          \"arguments\": \"{\\n  \\\"location\\\": \\\"Boston, MA\\\"\\n}\"\n",
                "        }\n",
                "      },\n",
                "      \"finish_reason\": \"stop\"\n",
                "    }\n",
                "  ],\n",
                "  \"usage\": {\n",
                "    \"prompt_tokens\": 88,\n",
                "    \"completion_tokens\": 11,\n",
                "    \"total_tokens\": 99\n",
                "  }\n",
                "}\n",
                "\n",
                "## Append message\n",
                "\n",
                "Append to list of messages"
            ]
        },
        {
            "cell_type": "code",
            "metadata": {},
            "source": [
                "messages.append(response[\"choices\"][0][\"message\"])"
            ],
            "execution_count": null,
            "outputs": []
        },
        {
            "cell_type": "markdown",
            "metadata": {},
            "source": [
                ""
            ]
        },
        {
            "cell_type": "code",
            "metadata": {},
            "source": [
                "args = json.loads(response[\"choices\"][0][\"message\"]['function_call']['arguments'])\n",
                "\n",
                "observation = get_current_weather(args)"
            ],
            "execution_count": null,
            "outputs": []
        },
        {
            "cell_type": "markdown",
            "metadata": {},
            "source": [
                "\n",
                "\n",
                "- This is the response of calling a funtion"
            ]
        },
        {
            "cell_type": "code",
            "metadata": {},
            "source": [
                "messages.append(\n",
                "        {\n",
                "            \"role\": \"function\",\n",
                "            \"name\": \"get_current_weather\",\n",
                "            \"content\": observation,\n",
                "        }\n",
                ")"
            ],
            "execution_count": null,
            "outputs": []
        },
        {
            "cell_type": "markdown",
            "metadata": {},
            "source": [
                "## Response {.smaller}"
            ]
        },
        {
            "cell_type": "code",
            "metadata": {},
            "source": [
                "response = openai.ChatCompletion.create(\n",
                "    model=\"gpt-3.5-turbo-0613\",\n",
                "    messages=messages,\n",
                ")\n",
                "print(response)"
            ],
            "execution_count": null,
            "outputs": []
        }
    ],
    "metadata": {
        "kernelspec": {
            "name": "python3",
            "language": "python",
            "display_name": "Python 3 (ipykernel)"
        }
    },
    "nbformat": 4,
    "nbformat_minor": 4
}