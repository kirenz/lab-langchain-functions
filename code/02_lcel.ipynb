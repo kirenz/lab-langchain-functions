{
    "cells": [
        {
            "cell_type": "markdown",
            "metadata": {},
            "source": [
                "# LangChain Expression Language (LCEL)\n",
                "\n",
                "# Setup {.smaller}"
            ]
        },
        {
            "cell_type": "code",
            "metadata": {},
            "source": [
                "import os\n",
                "import openai\n",
                "\n",
                "from dotenv import load_dotenv, find_dotenv\n",
                "_ = load_dotenv(find_dotenv()) # read local .env file\n",
                "openai.api_key = os.environ['OPENAI_API_KEY']"
            ],
            "execution_count": null,
            "outputs": []
        },
        {
            "cell_type": "code",
            "metadata": {},
            "source": [
                "import json\n",
                "\n",
                "from langchain.prompts import ChatPromptTemplate\n",
                "from langchain.chat_models import ChatOpenAI\n",
                "from langchain.schema.output_parser import StrOutputParser\n",
                "from langchain.embeddings import OpenAIEmbeddings\n",
                "from langchain.vectorstores import DocArrayInMemorySearch\n",
                "from langchain.schema.runnable import RunnableMap\n",
                "from langchain.llms import OpenAI"
            ],
            "execution_count": null,
            "outputs": []
        },
        {
            "cell_type": "markdown",
            "metadata": {},
            "source": [
                "# Simple Chain \n",
                "\n",
                "\n",
                "## Create chain{.smaller}"
            ]
        },
        {
            "cell_type": "code",
            "metadata": {},
            "source": [
                "prompt = ChatPromptTemplate.from_template(\n",
                "    \"tell me a short joke about {topic}\"\n",
                ")\n",
                "\n",
                "model = ChatOpenAI()\n",
                "\n",
                "output_parser = StrOutputParser()"
            ],
            "execution_count": null,
            "outputs": []
        },
        {
            "cell_type": "markdown",
            "metadata": {},
            "source": [
                " "
            ]
        },
        {
            "cell_type": "code",
            "metadata": {},
            "source": [
                "chain = prompt | model | output_parser"
            ],
            "execution_count": null,
            "outputs": []
        },
        {
            "cell_type": "markdown",
            "metadata": {},
            "source": [
                "## Invoke chain"
            ]
        },
        {
            "cell_type": "code",
            "metadata": {},
            "source": [
                "chain.invoke({\"topic\": \"a professor at HdM Stuttgar\"})"
            ],
            "execution_count": null,
            "outputs": []
        },
        {
            "cell_type": "markdown",
            "metadata": {},
            "source": [
                "- ''Why did the professor at HdM Stuttgart always carry a ladder?\\n\\nBecause he wanted to reach new heights in teaching!''\n",
                "\n",
                "\n",
                "# More complex chain\n",
                "\n",
                "## Create Vector Store and Retriever\n"
            ]
        },
        {
            "cell_type": "code",
            "metadata": {},
            "source": [
                "vectorstore = DocArrayInMemorySearch.from_texts(\n",
                "    [\"Yuval Noah Harari is the author of Sapiens\", \"In A Guide to the Good Life, William Irvine offers a refreshing presentation of Stoicism\"],\n",
                "    embedding=OpenAIEmbeddings()\n",
                ")\n",
                "\n",
                "# create a retriever\n",
                "retriever = vectorstore.as_retriever()"
            ],
            "execution_count": null,
            "outputs": []
        },
        {
            "cell_type": "markdown",
            "metadata": {},
            "source": [
                "## Retrieve relevant documents {.smaller}"
            ]
        },
        {
            "cell_type": "code",
            "metadata": {},
            "source": [
                "retriever.get_relevant_documents(\"who is the author of Sapiens?\")"
            ],
            "execution_count": null,
            "outputs": []
        },
        {
            "cell_type": "markdown",
            "metadata": {},
            "source": [
                "- [Document(page_content='Yuval Noah Harari is the author of Sapiens'),\n",
                " Document(page_content='In A Guide to the Good Life, William Irvine offers a refreshing presentation of Stoicism')]\n",
                "\n",
                ""
            ]
        },
        {
            "cell_type": "code",
            "metadata": {},
            "source": [
                "retriever.get_relevant_documents(\"Which book did William Irvine write?\")"
            ],
            "execution_count": null,
            "outputs": []
        },
        {
            "cell_type": "markdown",
            "metadata": {},
            "source": [
                "- [Document(page_content='In A Guide to the Good Life, William Irvine offers a refreshing presentation of Stoicism'),\n",
                " Document(page_content='Yuval Noah Harari is the author of Sapiens')]\n",
                "\n",
                "\n",
                "# RAG pipeline\n",
                "\n",
                "\n",
                "## Create prompt"
            ]
        },
        {
            "cell_type": "code",
            "metadata": {},
            "source": [
                "template = \"\"\"Answer the question based only on the following context:\n",
                "{context}\n",
                "\n",
                "Question: {question}\n",
                "\"\"\"\n",
                "\n",
                "prompt = ChatPromptTemplate.from_template(template)"
            ],
            "execution_count": null,
            "outputs": []
        },
        {
            "cell_type": "markdown",
            "metadata": {},
            "source": [
                "## Runnable Map {.smaller}\n",
                "\n",
                "- Chain: get user input > fetch relevant context > pass context into prompt > pass into model > pass into output parser to convert into string\n",
                "\n",
                "- Create dictionary with context and question\n",
                ""
            ]
        },
        {
            "cell_type": "code",
            "metadata": {},
            "source": [
                "chain = RunnableMap({\n",
                "    \"context\": lambda x: retriever.get_relevant_documents(x[\"question\"]),\n",
                "    \"question\": lambda x: x[\"question\"]\n",
                "}) | prompt | model | output_parser"
            ],
            "execution_count": null,
            "outputs": []
        },
        {
            "cell_type": "markdown",
            "metadata": {},
            "source": [
                "## Invoke chain"
            ]
        },
        {
            "cell_type": "code",
            "metadata": {},
            "source": [
                "chain.invoke({\"question\": \"who is the author of Sapiens?\"})"
            ],
            "execution_count": null,
            "outputs": []
        },
        {
            "cell_type": "markdown",
            "metadata": {},
            "source": [
                "- 'The author of Sapiens is Yuval Noah Harari.'\n",
                "\n",
                "## Closer look at the RunnableMap {.smaller}\n"
            ]
        },
        {
            "cell_type": "code",
            "metadata": {},
            "source": [
                "inputs = RunnableMap({\n",
                "    \"context\": lambda x: retriever.get_relevant_documents(x[\"question\"]),\n",
                "    \"question\": lambda x: x[\"question\"]\n",
                "})"
            ],
            "execution_count": null,
            "outputs": []
        },
        {
            "cell_type": "markdown",
            "metadata": {},
            "source": [
                ""
            ]
        },
        {
            "cell_type": "code",
            "metadata": {},
            "source": [
                "inputs.invoke({\"question\": \"who is the author of Sapiens?\"})"
            ],
            "execution_count": null,
            "outputs": []
        },
        {
            "cell_type": "markdown",
            "metadata": {},
            "source": [
                "- {'context': [Document(page_content='Yuval Noah Harari is the author of Sapiens'),\n",
                "  Document(page_content='In A Guide to the Good Life, William Irvine offers a refreshing presentation of Stoicism')],\n",
                " 'question': 'who is the author of Sapiens?'}\n",
                "\n",
                "\n",
                "# Bind parameters\n",
                "\n",
                "## Weather function\n"
            ]
        },
        {
            "cell_type": "code",
            "metadata": {},
            "source": [
                "functions = [\n",
                "    {\n",
                "      \"name\": \"weather_search\",\n",
                "      \"description\": \"Search for weather given an airport code\",\n",
                "      \"parameters\": {\n",
                "        \"type\": \"object\",\n",
                "        \"properties\": {\n",
                "          \"airport_code\": {\n",
                "            \"type\": \"string\",\n",
                "            \"description\": \"The airport code to get the weather for\"\n",
                "          },\n",
                "        },\n",
                "        \"required\": [\"airport_code\"]\n",
                "      }\n",
                "    }\n",
                "  ]"
            ],
            "execution_count": null,
            "outputs": []
        },
        {
            "cell_type": "markdown",
            "metadata": {},
            "source": [
                "## Bind\n"
            ]
        },
        {
            "cell_type": "code",
            "metadata": {},
            "source": [
                "prompt = ChatPromptTemplate.from_messages(\n",
                "    [\n",
                "        (\"human\", \"{input}\")\n",
                "    ]\n",
                ")\n",
                "model = ChatOpenAI(temperature=0).bind(functions=functions)"
            ],
            "execution_count": null,
            "outputs": []
        },
        {
            "cell_type": "markdown",
            "metadata": {},
            "source": [
                "## Runnable"
            ]
        },
        {
            "cell_type": "code",
            "metadata": {},
            "source": [
                "runnable = prompt | model"
            ],
            "execution_count": null,
            "outputs": []
        },
        {
            "cell_type": "code",
            "metadata": {},
            "source": [
                "runnable.invoke({\"input\": \"what is the weather in sf\"})"
            ],
            "execution_count": null,
            "outputs": []
        },
        {
            "cell_type": "markdown",
            "metadata": {},
            "source": [
                "- AIMessage(content='', additional_kwargs={'function_call': {'name': 'weather_search', 'arguments': '{\\n  \"airport_code\": \"SFO\"\\n}'}})\n",
                "\n",
                "## Weather and sports search function {.smaller}"
            ]
        },
        {
            "cell_type": "code",
            "metadata": {},
            "source": [
                "functions = [\n",
                "    {\n",
                "      \"name\": \"weather_search\",\n",
                "      \"description\": \"Search for weather given an airport code\",\n",
                "      \"parameters\": {\n",
                "        \"type\": \"object\",\n",
                "        \"properties\": {\n",
                "          \"airport_code\": {\n",
                "            \"type\": \"string\",\n",
                "            \"description\": \"The airport code to get the weather for\"\n",
                "          },\n",
                "        },\n",
                "        \"required\": [\"airport_code\"]\n",
                "      }\n",
                "    },\n",
                "        {\n",
                "      \"name\": \"sports_search\",\n",
                "      \"description\": \"Search for news of recent sport events\",\n",
                "      \"parameters\": {\n",
                "        \"type\": \"object\",\n",
                "        \"properties\": {\n",
                "          \"team_name\": {\n",
                "            \"type\": \"string\",\n",
                "            \"description\": \"The sports team to search for\"\n",
                "          },\n",
                "        },\n",
                "        \"required\": [\"team_name\"]\n",
                "      }\n",
                "    }\n",
                "  ]"
            ],
            "execution_count": null,
            "outputs": []
        },
        {
            "cell_type": "markdown",
            "metadata": {},
            "source": [
                "## Bind {.smaller}"
            ]
        },
        {
            "cell_type": "code",
            "metadata": {},
            "source": [
                "model = model.bind(functions=functions)"
            ],
            "execution_count": null,
            "outputs": []
        },
        {
            "cell_type": "markdown",
            "metadata": {},
            "source": [
                ""
            ]
        },
        {
            "cell_type": "code",
            "metadata": {},
            "source": [
                "runnable = prompt | model"
            ],
            "execution_count": null,
            "outputs": []
        },
        {
            "cell_type": "markdown",
            "metadata": {},
            "source": [
                ""
            ]
        },
        {
            "cell_type": "code",
            "metadata": {},
            "source": [
                "runnable.invoke({\"input\": \"how did the patriots do yesterday?\"})"
            ],
            "execution_count": null,
            "outputs": []
        },
        {
            "cell_type": "markdown",
            "metadata": {},
            "source": [
                "- AIMessage(content='', additional_kwargs={'function_call': {'name': 'sports_search', 'arguments': '{\\n  \"team_name\": \"patriots\"\\n}'}})\n",
                "\n",
                "# Fallbacks\n",
                "\n",
                "## Use a simple model\n"
            ]
        },
        {
            "cell_type": "code",
            "metadata": {},
            "source": [
                "simple_model = OpenAI(\n",
                "    temperature=0, \n",
                "    max_tokens=1000, \n",
                "    model=\"text-davinci-001\"\n",
                ")\n",
                "simple_chain = simple_model | json.loads"
            ],
            "execution_count": null,
            "outputs": []
        },
        {
            "cell_type": "markdown",
            "metadata": {},
            "source": [
                "## Input"
            ]
        },
        {
            "cell_type": "code",
            "metadata": {},
            "source": [
                "challenge = \"write three poems in a json blob, where each poem is a json blob of a title, author, and first line\""
            ],
            "execution_count": null,
            "outputs": []
        },
        {
            "cell_type": "markdown",
            "metadata": {},
            "source": [
                "## Run simple model"
            ]
        },
        {
            "cell_type": "code",
            "metadata": {},
            "source": [
                "simple_model.invoke(challenge)"
            ],
            "execution_count": null,
            "outputs": []
        },
        {
            "cell_type": "markdown",
            "metadata": {},
            "source": [
                "- Note: The next line is expected to fail."
            ]
        },
        {
            "cell_type": "code",
            "metadata": {},
            "source": [
                "# simple_chain.invoke(challenge)"
            ],
            "execution_count": null,
            "outputs": []
        },
        {
            "cell_type": "markdown",
            "metadata": {},
            "source": [
                "- Output is not JSON\n",
                "\n",
                "## Use different model"
            ]
        },
        {
            "cell_type": "code",
            "metadata": {},
            "source": [
                "model = ChatOpenAI(temperature=0)\n",
                "\n",
                "chain = model | StrOutputParser() | json.loads"
            ],
            "execution_count": null,
            "outputs": []
        },
        {
            "cell_type": "markdown",
            "metadata": {},
            "source": [
                ""
            ]
        },
        {
            "cell_type": "code",
            "metadata": {},
            "source": [
                "chain.invoke(challenge)"
            ],
            "execution_count": null,
            "outputs": []
        },
        {
            "cell_type": "markdown",
            "metadata": {},
            "source": [
                "- {'poem1': {'title': 'Whispers of the Wind',\n",
                "  'author': 'Emily Rivers',\n",
                "  'first_line': \"Softly it blows, the wind's gentle touch\"},\n",
                " 'poem2': {'title': 'Silent Serenade',\n",
                "  'author': 'Jacob Stone',\n",
                "  'first_line': 'In moonlit night, a song unheard'},\n",
                " 'poem3': {'title': 'Dancing Shadows',\n",
                "  'author': 'Sophia Reed',\n",
                "  'first_line': 'Shadows sway, a graceful ballet'}}\n",
                "\n",
                "\n",
                "## New model with fallbacks"
            ]
        },
        {
            "cell_type": "code",
            "metadata": {},
            "source": [
                "final_chain = simple_chain.with_fallbacks([chain])"
            ],
            "execution_count": null,
            "outputs": []
        },
        {
            "cell_type": "code",
            "metadata": {},
            "source": [
                "final_chain.invoke(challenge)"
            ],
            "execution_count": null,
            "outputs": []
        },
        {
            "cell_type": "markdown",
            "metadata": {},
            "source": [
                "- {'poem1': {'title': 'Whispers of the Wind',\n",
                "  'author': 'Emily Rivers',\n",
                "  'first_line': 'Softly it comes, the whisper of the wind'},\n",
                " 'poem2': {'title': 'Silent Serenade',\n",
                "  'author': 'Jacob Moore',\n",
                "  'first_line': 'In the stillness of night, a silent serenade'},\n",
                " 'poem3': {'title': 'Dancing Shadows',\n",
                "  'author': 'Sophia Anderson',\n",
                "  'first_line': 'Shadows dance upon the walls, a secret ballet'}}\n",
                "\n",
                "# Interface\n",
                "\n",
                "## Joke example"
            ]
        },
        {
            "cell_type": "code",
            "metadata": {},
            "source": [
                "prompt = ChatPromptTemplate.from_template(\n",
                "    \"Tell me a short joke about {topic}\"\n",
                ")\n",
                "model = ChatOpenAI()\n",
                "output_parser = StrOutputParser()\n",
                "\n",
                "chain = prompt | model | output_parser"
            ],
            "execution_count": null,
            "outputs": []
        },
        {
            "cell_type": "markdown",
            "metadata": {},
            "source": [
                "## One input"
            ]
        },
        {
            "cell_type": "code",
            "metadata": {},
            "source": [
                "chain.invoke({\"topic\": \"professors\"})"
            ],
            "execution_count": null,
            "outputs": []
        },
        {
            "cell_type": "markdown",
            "metadata": {},
            "source": [
                "- 'Why did the professor bring a ladder to the lecture? \\n\\nBecause they wanted to reach new heights of knowledge!'\n",
                "\n",
                "## Multiple inputs"
            ]
        },
        {
            "cell_type": "code",
            "metadata": {},
            "source": [
                "chain.batch([{\"topic\": \"professors\"}, {\"topic\": \"students\"}])"
            ],
            "execution_count": null,
            "outputs": []
        },
        {
            "cell_type": "markdown",
            "metadata": {},
            "source": [
                "- ['Why did the professor bring a ladder to class?\\n\\nBecause they heard the lecture was going to be on high-level concepts!',\n",
                " 'Why did the student bring a ladder to school?\\n\\nBecause they wanted to reach for the highest grades!']\n",
                "\n",
                "\n",
                "## Stream back responses {.smaller}"
            ]
        },
        {
            "cell_type": "code",
            "metadata": {},
            "source": [
                "for t in chain.stream({\"topic\": \"professors\"}):\n",
                "    print(t)"
            ],
            "execution_count": null,
            "outputs": []
        },
        {
            "cell_type": "markdown",
            "metadata": {},
            "source": [
                "Why\n",
                " did\n",
                " the\n",
                " professor\n",
                " bring\n",
                " a\n",
                " ladder\n",
                " to\n",
                " class\n",
                "?\n",
                " \n",
                "\n",
                "\n",
                "Because\n",
                " they\n",
                " wanted\n",
                " to\n",
                " reach\n",
                " new\n",
                " heights\n",
                " in\n",
                " education\n",
                "!\n",
                "\n",
                "## Async method"
            ]
        },
        {
            "cell_type": "code",
            "metadata": {},
            "source": [
                "response = await chain.ainvoke({\"topic\": \"professors\"})\n",
                "response"
            ],
            "execution_count": null,
            "outputs": []
        }
    ],
    "metadata": {
        "kernelspec": {
            "name": "python3",
            "language": "python",
            "display_name": "Python 3 (ipykernel)"
        }
    },
    "nbformat": 4,
    "nbformat_minor": 4
}