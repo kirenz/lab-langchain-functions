{
    "cells": [
        {
            "cell_type": "markdown",
            "metadata": {},
            "source": [
                "# Conversational agent\n",
                "\n",
                "Let's build a conversational agent\n",
                "\n",
                "# Setup {.smaller}"
            ]
        },
        {
            "cell_type": "code",
            "metadata": {},
            "source": [
                "import os\n",
                "import openai\n",
                "\n",
                "from dotenv import load_dotenv, find_dotenv\n",
                "_ = load_dotenv(find_dotenv()) \n",
                "openai.api_key = os.environ['OPENAI_API_KEY']"
            ],
            "execution_count": null,
            "outputs": []
        },
        {
            "cell_type": "code",
            "metadata": {},
            "source": [
                "import datetime\n",
                "import requests\n",
                "import wikipedia\n",
                "from pydantic import BaseModel, Field\n",
                "\n",
                "from langchain.tools import tool\n",
                "from langchain.chat_models import ChatOpenAI\n",
                "from langchain.prompts import ChatPromptTemplate\n",
                "from langchain.tools.render import format_tool_to_openai_function\n",
                "from langchain.agents.output_parsers import OpenAIFunctionsAgentOutputParser\n",
                "from langchain.prompts import MessagesPlaceholder\n",
                "from langchain.agents.format_scratchpad import format_to_openai_functions\n",
                "from langchain.schema.agent import AgentFinish\n",
                "from langchain.schema.runnable import RunnablePassthrough\n",
                "from langchain.agents import AgentExecutor\n",
                "from langchain.memory import ConversationBufferMemory\n",
                "\n",
                "import panel as pn \n",
                "pn.extension()\n",
                "import panel as pn\n",
                "import param"
            ],
            "execution_count": null,
            "outputs": []
        },
        {
            "cell_type": "markdown",
            "metadata": {},
            "source": [
                "# Prepare\n",
                "\n",
                "## Define weather tool {.smaller}"
            ]
        },
        {
            "cell_type": "code",
            "metadata": {},
            "source": [
                "# Define the input schema\n",
                "class OpenMeteoInput(BaseModel):\n",
                "    latitude: float = Field(..., description=\"Latitude of the location to fetch weather data for\")\n",
                "    longitude: float = Field(..., description=\"Longitude of the location to fetch weather data for\")\n",
                "\n",
                "@tool(args_schema=OpenMeteoInput)\n",
                "def get_current_temperature(latitude: float, longitude: float) -> dict:\n",
                "    \"\"\"Fetch current temperature for given coordinates.\"\"\"\n",
                "    \n",
                "    BASE_URL = \"https://api.open-meteo.com/v1/forecast\"\n",
                "    \n",
                "    # Parameters for the request\n",
                "    params = {\n",
                "        'latitude': latitude,\n",
                "        'longitude': longitude,\n",
                "        'hourly': 'temperature_2m',\n",
                "        'forecast_days': 1,\n",
                "    }\n",
                "\n",
                "    # Make the request\n",
                "    response = requests.get(BASE_URL, params=params)\n",
                "    \n",
                "    if response.status_code == 200:\n",
                "        results = response.json()\n",
                "    else:\n",
                "        raise Exception(f\"API Request failed with status code: {response.status_code}\")\n",
                "\n",
                "    current_utc_time = datetime.datetime.utcnow()\n",
                "    time_list = [datetime.datetime.fromisoformat(time_str.replace('Z', '+00:00')) for time_str in results['hourly']['time']]\n",
                "    temperature_list = results['hourly']['temperature_2m']\n",
                "    \n",
                "    closest_time_index = min(range(len(time_list)), key=lambda i: abs(time_list[i] - current_utc_time))\n",
                "    current_temperature = temperature_list[closest_time_index]\n",
                "    \n",
                "    return f'The current temperature is {current_temperature}°C'"
            ],
            "execution_count": null,
            "outputs": []
        },
        {
            "cell_type": "markdown",
            "metadata": {},
            "source": [
                "## Define Wikipedia tool {.smaller}"
            ]
        },
        {
            "cell_type": "code",
            "metadata": {},
            "source": [
                "@tool\n",
                "def search_wikipedia(query: str) -> str:\n",
                "    \"\"\"Run Wikipedia search and get page summaries.\"\"\"\n",
                "    page_titles = wikipedia.search(query)\n",
                "    summaries = []\n",
                "    for page_title in page_titles[: 3]:\n",
                "        try:\n",
                "            wiki_page =  wikipedia.page(title=page_title, auto_suggest=False)\n",
                "            summaries.append(f\"Page: {page_title}\\nSummary: {wiki_page.summary}\")\n",
                "        except (\n",
                "            self.wiki_client.exceptions.PageError,\n",
                "            self.wiki_client.exceptions.DisambiguationError,\n",
                "        ):\n",
                "            pass\n",
                "    if not summaries:\n",
                "        return \"No good Wikipedia Search Result was found\"\n",
                "    return \"\\n\\n\".join(summaries)"
            ],
            "execution_count": null,
            "outputs": []
        },
        {
            "cell_type": "markdown",
            "metadata": {},
            "source": [
                "## Save list of tools"
            ]
        },
        {
            "cell_type": "code",
            "metadata": {},
            "source": [
                "tools = [get_current_temperature, search_wikipedia]"
            ],
            "execution_count": null,
            "outputs": []
        },
        {
            "cell_type": "markdown",
            "metadata": {},
            "source": [
                "## Set up chain"
            ]
        },
        {
            "cell_type": "code",
            "metadata": {},
            "source": [
                "functions = [format_tool_to_openai_function(f) for f in tools]\n",
                "\n",
                "model = ChatOpenAI(temperature=0).bind(functions=functions)\n",
                "\n",
                "prompt = ChatPromptTemplate.from_messages([\n",
                "    (\"system\", \"You are helpful but sassy assistant\"),\n",
                "    (\"user\", \"{input}\"),\n",
                "])\n",
                "\n",
                "chain = prompt | model | OpenAIFunctionsAgentOutputParser()"
            ],
            "execution_count": null,
            "outputs": []
        },
        {
            "cell_type": "markdown",
            "metadata": {},
            "source": [
                "## Invoke chain {.smaller}"
            ]
        },
        {
            "cell_type": "code",
            "metadata": {},
            "source": [
                "result = chain.invoke({\"input\": \"what is the weather in stuttgart?\"})"
            ],
            "execution_count": null,
            "outputs": []
        },
        {
            "cell_type": "markdown",
            "metadata": {},
            "source": [
                ""
            ]
        },
        {
            "cell_type": "code",
            "metadata": {},
            "source": [
                "result.tool"
            ],
            "execution_count": null,
            "outputs": []
        },
        {
            "cell_type": "markdown",
            "metadata": {},
            "source": [
                "- 'get_current_temperature'\n",
                "\n",
                ""
            ]
        },
        {
            "cell_type": "code",
            "metadata": {},
            "source": [
                "result.tool_input"
            ],
            "execution_count": null,
            "outputs": []
        },
        {
            "cell_type": "markdown",
            "metadata": {},
            "source": [
                "- {'latitude': 48.7758, 'longitude': 9.1829}\n",
                "\n",
                "\n",
                "# Pass back in history\n",
                "\n",
                "## Modify prompt\n",
                "\n",
                "- Use MessagesPlaceholder"
            ]
        },
        {
            "cell_type": "code",
            "metadata": {},
            "source": [
                "prompt = ChatPromptTemplate.from_messages([\n",
                "    (\"system\", \"You are helpful but sassy assistant\"),\n",
                "    (\"user\", \"{input}\"),\n",
                "    MessagesPlaceholder(variable_name=\"agent_scratchpad\")\n",
                "])"
            ],
            "execution_count": null,
            "outputs": []
        },
        {
            "cell_type": "markdown",
            "metadata": {},
            "source": [
                "## Create chain"
            ]
        },
        {
            "cell_type": "code",
            "metadata": {},
            "source": [
                "chain = prompt | model | OpenAIFunctionsAgentOutputParser()"
            ],
            "execution_count": null,
            "outputs": []
        },
        {
            "cell_type": "markdown",
            "metadata": {},
            "source": [
                "## Invoke chain\n",
                "\n",
                "- We use an empty list because we don't have any input so far\n",
                "\n",
                ""
            ]
        },
        {
            "cell_type": "code",
            "metadata": {},
            "source": [
                "result1 = chain.invoke({\n",
                "    \"input\": \"what is the weather is stuttgart?\",\n",
                "    \"agent_scratchpad\": []\n",
                "})"
            ],
            "execution_count": null,
            "outputs": []
        },
        {
            "cell_type": "markdown",
            "metadata": {},
            "source": [
                "## Inspect result1 {.smaller}"
            ]
        },
        {
            "cell_type": "code",
            "metadata": {},
            "source": [
                "result1.tool"
            ],
            "execution_count": null,
            "outputs": []
        },
        {
            "cell_type": "markdown",
            "metadata": {},
            "source": [
                "- 'get_current_temperature'"
            ]
        },
        {
            "cell_type": "code",
            "metadata": {},
            "source": [
                "observation = get_current_temperature(result1.tool_input)"
            ],
            "execution_count": null,
            "outputs": []
        },
        {
            "cell_type": "code",
            "metadata": {},
            "source": [
                "observation"
            ],
            "execution_count": null,
            "outputs": []
        },
        {
            "cell_type": "markdown",
            "metadata": {},
            "source": [
                "- 'The current temperature is 10.1°C'"
            ]
        },
        {
            "cell_type": "code",
            "metadata": {},
            "source": [
                "type(result1)"
            ],
            "execution_count": null,
            "outputs": []
        },
        {
            "cell_type": "markdown",
            "metadata": {},
            "source": [
                "- langchain.schema.agent.AgentActionMessageLog\n",
                "\n",
                "## Show log"
            ]
        },
        {
            "cell_type": "code",
            "metadata": {},
            "source": [
                "result1.message_log"
            ],
            "execution_count": null,
            "outputs": []
        },
        {
            "cell_type": "markdown",
            "metadata": {},
            "source": [
                "- [AIMessage(content='', additional_kwargs={'function_call': {'name': 'get_current_temperature', 'arguments': '{\\n  \"latitude\": 48.7758,\\n  \"longitude\": 9.1829\\n}'}})]\n",
                "\n",
                "## Format to OpenAI functions"
            ]
        },
        {
            "cell_type": "code",
            "metadata": {},
            "source": [
                "format_to_openai_functions([(result1, observation), ])"
            ],
            "execution_count": null,
            "outputs": []
        },
        {
            "cell_type": "markdown",
            "metadata": {},
            "source": [
                "- [AIMessage(content='', additional_kwargs={'function_call': {'name': 'get_current_temperature', 'arguments': '{\\n  \"latitude\": 48.7758,\\n  \"longitude\": 9.1829\\n}'}}),\n",
                " FunctionMessage(content='The current temperature is 10.1°C', name='get_current_temperature')]\n",
                "\n",
                "## Update chain {.smaller}"
            ]
        },
        {
            "cell_type": "code",
            "metadata": {},
            "source": [
                "result2 = chain.invoke({\n",
                "    \"input\": \"what is the weather in stuttgart?\", \n",
                "    \"agent_scratchpad\": format_to_openai_functions([(result1, observation)])\n",
                "})"
            ],
            "execution_count": null,
            "outputs": []
        },
        {
            "cell_type": "markdown",
            "metadata": {},
            "source": [
                ""
            ]
        },
        {
            "cell_type": "code",
            "metadata": {},
            "source": [
                "result2"
            ],
            "execution_count": null,
            "outputs": []
        },
        {
            "cell_type": "markdown",
            "metadata": {},
            "source": [
                "- AgentFinish(return_values={'output': 'The current temperature in Stuttgart is 10.1°C.'}, log='The current temperature in Stuttgart is 10.1°C.')\n",
                "\n",
                "\n",
                "# Final function \n",
                "\n",
                "## Function for agent {.smaller}"
            ]
        },
        {
            "cell_type": "code",
            "metadata": {},
            "source": [
                "def run_agent(user_input):\n",
                "    intermediate_steps = []\n",
                "    while True:\n",
                "        result = chain.invoke({\n",
                "            \"input\": user_input, \n",
                "            \"agent_scratchpad\": format_to_openai_functions(intermediate_steps)\n",
                "        })\n",
                "        if isinstance(result, AgentFinish):\n",
                "            return result\n",
                "        tool = {\n",
                "            \"search_wikipedia\": search_wikipedia, \n",
                "            \"get_current_temperature\": get_current_temperature,\n",
                "        }[result.tool]\n",
                "        observation = tool.run(result.tool_input)\n",
                "        intermediate_steps.append((result, observation))"
            ],
            "execution_count": null,
            "outputs": []
        },
        {
            "cell_type": "markdown",
            "metadata": {},
            "source": [
                "## RunnablePassthrough {.smaller}"
            ]
        },
        {
            "cell_type": "code",
            "metadata": {},
            "source": [
                "agent_chain = RunnablePassthrough.assign(\n",
                "    agent_scratchpad= lambda x: format_to_openai_functions(x[\"intermediate_steps\"])\n",
                ") | chain"
            ],
            "execution_count": null,
            "outputs": []
        },
        {
            "cell_type": "markdown",
            "metadata": {},
            "source": [
                "\n"
            ]
        },
        {
            "cell_type": "code",
            "metadata": {},
            "source": [
                "def run_agent(user_input):\n",
                "    intermediate_steps = []\n",
                "    while True:\n",
                "        result = agent_chain.invoke({\n",
                "            \"input\": user_input, \n",
                "            \"intermediate_steps\": intermediate_steps\n",
                "        })\n",
                "        if isinstance(result, AgentFinish):\n",
                "            return result\n",
                "        tool = {\n",
                "            \"search_wikipedia\": search_wikipedia, \n",
                "            \"get_current_temperature\": get_current_temperature,\n",
                "        }[result.tool]\n",
                "        observation = tool.run(result.tool_input)\n",
                "        intermediate_steps.append((result, observation))"
            ],
            "execution_count": null,
            "outputs": []
        },
        {
            "cell_type": "markdown",
            "metadata": {},
            "source": [
                "## Run agent with weather question"
            ]
        },
        {
            "cell_type": "code",
            "metadata": {},
            "source": [
                "run_agent(\"what is the weather in stuttgart?\")"
            ],
            "execution_count": null,
            "outputs": []
        },
        {
            "cell_type": "markdown",
            "metadata": {},
            "source": [
                "- AgentFinish(return_values={'output': 'The current temperature in Stuttgart is 10.1°C.'}, log='The current temperature in Stuttgart is 10.1°C.')\n",
                "\n",
                "\n",
                "## Run agent with general question {.smaller}"
            ]
        },
        {
            "cell_type": "code",
            "metadata": {},
            "source": [
                "run_agent(\"what is langchain?\")"
            ],
            "execution_count": null,
            "outputs": []
        },
        {
            "cell_type": "markdown",
            "metadata": {},
            "source": [
                "- AgentFinish(return_values={'output': 'LangChain is a framework designed to simplify the creation of applications using large language models (LLMs). It is a language model integration framework that can be used for various tasks such as document analysis and summarization, chatbots, and code analysis. LangChain helps developers leverage the power of language models in their applications.'}, log='LangChain is a framework designed to simplify the creation of applications using large language models (LLMs). It is a language model integration framework that can be used for various tasks such as document analysis and summarization, chatbots, and code analysis. LangChain helps developers leverage the power of language models in their applications.')\n",
                "\n",
                "\n",
                "## Just say hi"
            ]
        },
        {
            "cell_type": "code",
            "metadata": {},
            "source": [
                "run_agent(\"hi!\")"
            ],
            "execution_count": null,
            "outputs": []
        },
        {
            "cell_type": "markdown",
            "metadata": {},
            "source": [
                "- AgentFinish(return_values={'output': 'Hello! How can I assist you today?'}, log='Hello! How can I assist you today?')\n",
                "\n",
                "\n",
                "# Agent Executor\n",
                "\n",
                "## Define Agent Executor"
            ]
        },
        {
            "cell_type": "code",
            "metadata": {},
            "source": [
                "agent_executor = AgentExecutor(agent=agent_chain, tools=tools, verbose=True)"
            ],
            "execution_count": null,
            "outputs": []
        },
        {
            "cell_type": "markdown",
            "metadata": {},
            "source": [
                "## Invoke executor {.smaller}"
            ]
        },
        {
            "cell_type": "code",
            "metadata": {},
            "source": [
                "agent_executor.invoke({\"input\": \"what is langchain?\"})"
            ],
            "execution_count": null,
            "outputs": []
        },
        {
            "cell_type": "markdown",
            "metadata": {},
            "source": [
                "> Entering new AgentExecutor chain...\n",
                "\n",
                "Invoking: `search_wikipedia` with `{'query': 'langchain'}`\n",
                "\n",
                "\n",
                "Page: LangChain\n",
                "Summary: LangChain is a framework designed to simplify the creation of applications using large language models (LLMs). As a language model integration framework, LangChain's use-cases largely overlap with those of language models in general, including document analysis and summarization, chatbots, and code analysis.\n",
                "\n",
                "Page: Prompt engineering\n",
                "Summary: Prompt engineering is the process of structuring text that can be interpreted and understood by a generative AI model. A prompt is natural language text describing the task that an AI should perform.A prompt for a text-to-text model can be a query such as \"what is Fermat's little theorem?\", a command such as \"write a poem about leaves falling\", a short statement of feedback (for example, \"too verbose\", \"too formal\", \"rephrase again\", \"omit this word\") or a longer statement including context, instructions, and input data. Prompt engineering may involve phrasing a query, specifying a style, providing relevant context or assigning a role to the AI such as \"Act as a native French speaker\". A prompt may include a few examples for a model to learn from, such as \"maison -> house, chat -> cat, chien ->\", an approach called few-shot learning.When communicating with a text-to-image or a text-to-audio model, a typical prompt is a description of a desired output such as \"a high-quality photo of an astronaut riding a horse\" or \"Lo-fi slow BPM electro chill with organic samples\". Prompting a text-to-image model may involve adding, removing, emphasizing and re-ordering words to achieve a desired subject, style, layout, lighting, and aesthetic.\n",
                "\n",
                "Page: Sentence embedding\n",
                "Summary: In natural language processing, a sentence embedding refers to a numeric representation of a sentence in the form of a vector of real numbers which encodes meaningful semantic information.State of the art embeddings are based on the learned hidden layer representation of dedicated sentence transformer models. BERT pioneered an approach involving the use of a dedicated [CLS] token prepended to the beginning of each sentence inputted into the model; the final hidden state vector of this token encodes information about the sentence and can be fine-tuned for use in sentence classification tasks. In practice however, BERT's sentence embedding with the [CLS] token achieves poor performance, often worse than simply averaging non-contextual word embeddings. SBERT later achieved superior sentence embedding performance by fine tuning BERT's [CLS] token embeddings through the usage of a siamese neural network architecture on the SNLI dataset. \n",
                "Other approaches are loosely based on the idea of distributional semantics applied to sentences. Skip-Thought trains an encoder-decoder structure for the task of neighboring sentences predictions. Though this has been shown to achieve worse performance than approaches such as InferSent or SBERT. \n",
                "An alternative direction is to aggregate word embeddings, such as those returned by Word2vec, into sentence embeddings. The most straightforward approach is to simply compute the average of word vectors, known as continuous bag-of-words (CBOW). However, more elaborate solutions based on word vector quantization have also been proposed. One such approach is the vector of locally aggregated word embeddings (VLAWE), which demonstrated performance improvements in downstream text classification tasks.\n",
                "LangChain is a framework designed to simplify the creation of applications using large language models (LLMs). It is a language model integration framework that can be used for various tasks such as document analysis and summarization, chatbots, and code analysis. LangChain helps developers leverage the power of language models in their applications.\n",
                "\n",
                "> Finished chain.\n",
                "\n",
                "{'input': 'what is langchain?',\n",
                " 'output': 'LangChain is a framework designed to simplify the creation of applications using large language models (LLMs). It is a language model integration framework that can be used for various tasks such as document analysis and summarization, chatbots, and code analysis. LangChain helps developers leverage the power of language models in their applications.'}\n",
                "\n",
                "# Conversation example {.smaller}"
            ]
        },
        {
            "cell_type": "code",
            "metadata": {},
            "source": [
                "agent_executor.invoke({\"input\": \"my name is bob\"})"
            ],
            "execution_count": null,
            "outputs": []
        },
        {
            "cell_type": "markdown",
            "metadata": {},
            "source": [
                "> Entering new AgentExecutor chain...\n",
                "Hello Bob! How can I assist you today?\n",
                "\n",
                "> Finished chain.\n",
                "\n",
                "\n",
                "{'input': 'my name is bob', 'output': 'Hello Bob! How can I assist you today?'}\n",
                "\n",
                "## Ask a question"
            ]
        },
        {
            "cell_type": "code",
            "metadata": {},
            "source": [
                "agent_executor.invoke({\"input\": \"what is my name\"})"
            ],
            "execution_count": null,
            "outputs": []
        },
        {
            "cell_type": "markdown",
            "metadata": {},
            "source": [
                "## Add previous messages in prompt"
            ]
        },
        {
            "cell_type": "code",
            "metadata": {},
            "source": [
                "prompt = ChatPromptTemplate.from_messages([\n",
                "    (\"system\", \"You are helpful but sassy assistant\"),\n",
                "    MessagesPlaceholder(variable_name=\"chat_history\"),\n",
                "    (\"user\", \"{input}\"),\n",
                "    MessagesPlaceholder(variable_name=\"agent_scratchpad\")\n",
                "])"
            ],
            "execution_count": null,
            "outputs": []
        },
        {
            "cell_type": "markdown",
            "metadata": {},
            "source": [
                "## Create agent chain"
            ]
        },
        {
            "cell_type": "code",
            "metadata": {},
            "source": [
                "agent_chain = RunnablePassthrough.assign(\n",
                "    agent_scratchpad= lambda x: format_to_openai_functions(x[\"intermediate_steps\"])\n",
                ") | prompt | model | OpenAIFunctionsAgentOutputParser()"
            ],
            "execution_count": null,
            "outputs": []
        },
        {
            "cell_type": "markdown",
            "metadata": {},
            "source": [
                "## Create memory object"
            ]
        },
        {
            "cell_type": "code",
            "metadata": {},
            "source": [
                "memory = ConversationBufferMemory(return_messages=True,memory_key=\"chat_history\")"
            ],
            "execution_count": null,
            "outputs": []
        },
        {
            "cell_type": "markdown",
            "metadata": {},
            "source": [
                "## Agent executor"
            ]
        },
        {
            "cell_type": "code",
            "metadata": {},
            "source": [
                "agent_executor = AgentExecutor(agent=agent_chain, tools=tools, verbose=True, memory=memory)"
            ],
            "execution_count": null,
            "outputs": []
        },
        {
            "cell_type": "markdown",
            "metadata": {},
            "source": [
                "## Provide input with name\n"
            ]
        },
        {
            "cell_type": "code",
            "metadata": {},
            "source": [
                "agent_executor.invoke({\"input\": \"my name is bob\"})"
            ],
            "execution_count": null,
            "outputs": []
        },
        {
            "cell_type": "markdown",
            "metadata": {},
            "source": [
                "> Entering new AgentExecutor chain...\n",
                "Hello Bob! How can I assist you today?\n",
                "\n",
                "> Finished chain.\n",
                "\n",
                "{'input': 'my name is bob',\n",
                " 'chat_history': [HumanMessage(content='my name is bob'),\n",
                "  AIMessage(content='Hello Bob! How can I assist you today?')],\n",
                " 'output': 'Hello Bob! How can I assist you today?'}\n",
                "\n",
                "## Ask about name\n"
            ]
        },
        {
            "cell_type": "code",
            "metadata": {},
            "source": [
                "agent_executor.invoke({\"input\": \"whats my name\"})"
            ],
            "execution_count": null,
            "outputs": []
        },
        {
            "cell_type": "markdown",
            "metadata": {},
            "source": [
                "> Entering new AgentExecutor chain...\n",
                "Your name is Bob.\n",
                "\n",
                "> Finished chain.\n",
                "\n",
                "{'input': 'whats my name',\n",
                " 'chat_history': [HumanMessage(content='my name is bob'),\n",
                "  AIMessage(content='Hello Bob! How can I assist you today?'),\n",
                "  HumanMessage(content='whats my name'),\n",
                "  AIMessage(content='Your name is Bob.')],\n",
                " 'output': 'Your name is Bob.'}\n",
                "\n",
                "\n",
                "## Ask about the weather {.smaller}"
            ]
        },
        {
            "cell_type": "code",
            "metadata": {},
            "source": [
                "agent_executor.invoke({\"input\": \"whats the weather in stuttgart?\"})"
            ],
            "execution_count": null,
            "outputs": []
        },
        {
            "cell_type": "markdown",
            "metadata": {},
            "source": [
                "> Entering new AgentExecutor chain...\n",
                "\n",
                "Invoking: `get_current_temperature` with `{'latitude': 48.7758, 'longitude': 9.1829}`\n",
                "\n",
                "\n",
                "The current temperature is 9.5°CThe current temperature in Stuttgart is 9.5°C.\n",
                "\n",
                "> Finished chain.\n",
                "\n",
                "{'input': 'whats the weather in stuttgart?',\n",
                " 'chat_history': [HumanMessage(content='my name is bob'),\n",
                "  AIMessage(content='Hello Bob! How can I assist you today?'),\n",
                "  HumanMessage(content='whats my name'),\n",
                "  AIMessage(content='Your name is Bob.'),\n",
                "  HumanMessage(content='whats the weather in stuttgart?'),\n",
                "  AIMessage(content='The current temperature in Stuttgart is 9.5°C.')],\n",
                " 'output': 'The current temperature in Stuttgart is 9.5°C.'}\n",
                "\n",
                "# Create a chatbot\n",
                "\n",
                "## Define a custom function"
            ]
        },
        {
            "cell_type": "code",
            "metadata": {},
            "source": [
                "@tool\n",
                "def create_your_own(query: str) -> str:\n",
                "    \"\"\"This function can do whatever you would like once you fill it in \"\"\"\n",
                "    print(type(query))\n",
                "    return query[::-1]"
            ],
            "execution_count": null,
            "outputs": []
        },
        {
            "cell_type": "markdown",
            "metadata": {},
            "source": [
                "## Create tool list"
            ]
        },
        {
            "cell_type": "code",
            "metadata": {},
            "source": [
                "tools = [get_current_temperature, search_wikipedia, create_your_own]"
            ],
            "execution_count": null,
            "outputs": []
        },
        {
            "cell_type": "markdown",
            "metadata": {},
            "source": [
                "## Define Chatbot function {.smaller}"
            ]
        },
        {
            "cell_type": "code",
            "metadata": {},
            "source": [
                "class cbfs(param.Parameterized):\n",
                "    \n",
                "    def __init__(self, tools, **params):\n",
                "        super(cbfs, self).__init__( **params)\n",
                "        self.panels = []\n",
                "        self.functions = [format_tool_to_openai_function(f) for f in tools]\n",
                "        self.model = ChatOpenAI(temperature=0).bind(functions=self.functions)\n",
                "        self.memory = ConversationBufferMemory(return_messages=True,memory_key=\"chat_history\")\n",
                "        self.prompt = ChatPromptTemplate.from_messages([\n",
                "            (\"system\", \"You are helpful but sassy assistant\"),\n",
                "            MessagesPlaceholder(variable_name=\"chat_history\"),\n",
                "            (\"user\", \"{input}\"),\n",
                "            MessagesPlaceholder(variable_name=\"agent_scratchpad\")\n",
                "        ])\n",
                "        self.chain = RunnablePassthrough.assign(\n",
                "            agent_scratchpad = lambda x: format_to_openai_functions(x[\"intermediate_steps\"])\n",
                "        ) | self.prompt | self.model | OpenAIFunctionsAgentOutputParser()\n",
                "        self.qa = AgentExecutor(agent=self.chain, tools=tools, verbose=False, memory=self.memory)\n",
                "    \n",
                "    def convchain(self, query):\n",
                "        if not query:\n",
                "            return\n",
                "        inp.value = ''\n",
                "        result = self.qa.invoke({\"input\": query})\n",
                "        self.answer = result['output'] \n",
                "        self.panels.extend([\n",
                "            pn.Row('User:', pn.pane.Markdown(query, width=450)),\n",
                "            pn.Row('ChatBot:', pn.pane.Markdown(self.answer, width=450, styles={'background-color': '#F6F6F6'}))\n",
                "        ])\n",
                "        return pn.WidgetBox(*self.panels, scroll=True)\n",
                "\n",
                "\n",
                "    def clr_history(self,count=0):\n",
                "        self.chat_history = []\n",
                "        return "
            ],
            "execution_count": null,
            "outputs": []
        },
        {
            "cell_type": "markdown",
            "metadata": {},
            "source": [
                "## Panel UI {.smaller}"
            ]
        },
        {
            "cell_type": "code",
            "metadata": {},
            "source": [
                "cb = cbfs(tools)\n",
                "\n",
                "inp = pn.widgets.TextInput( placeholder='Enter text here…')\n",
                "\n",
                "conversation = pn.bind(cb.convchain, inp) \n",
                "\n",
                "tab1 = pn.Column(\n",
                "    pn.Row(inp),\n",
                "    pn.layout.Divider(),\n",
                "    pn.panel(conversation,  loading_indicator=True, height=400),\n",
                "    pn.layout.Divider(),\n",
                ")\n",
                "\n",
                "dashboard = pn.Column(\n",
                "    pn.Row(pn.pane.Markdown('# QnA_Bot')),\n",
                "    pn.Tabs(('Conversation', tab1))\n",
                ")\n",
                "dashboard"
            ],
            "execution_count": null,
            "outputs": []
        }
    ],
    "metadata": {
        "kernelspec": {
            "name": "python3",
            "language": "python",
            "display_name": "Python 3 (ipykernel)"
        }
    },
    "nbformat": 4,
    "nbformat_minor": 4
}